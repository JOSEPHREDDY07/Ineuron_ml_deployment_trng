{
  "nbformat": 4,
  "nbformat_minor": 0,
  "metadata": {
    "colab": {
      "name": "Python_excericises1.ipynb",
      "provenance": [],
      "private_outputs": true,
      "collapsed_sections": [],
      "authorship_tag": "ABX9TyP3CkfLwE53qEnbVHhgyCiu",
      "include_colab_link": true
    },
    "kernelspec": {
      "name": "python3",
      "display_name": "Python 3"
    }
  },
  "cells": [
    {
      "cell_type": "markdown",
      "metadata": {
        "id": "view-in-github",
        "colab_type": "text"
      },
      "source": [
        "<a href=\"https://colab.research.google.com/github/JOSEPHREDDY07/Ineuron_ml_deployment_trng/blob/master/Python_excericises1.ipynb\" target=\"_parent\"><img src=\"https://colab.research.google.com/assets/colab-badge.svg\" alt=\"Open In Colab\"/></a>"
      ]
    },
    {
      "cell_type": "code",
      "metadata": {
        "id": "QN7IkVia9YM0",
        "colab_type": "code",
        "colab": {}
      },
      "source": [
        "#excercises"
      ],
      "execution_count": null,
      "outputs": []
    },
    {
      "cell_type": "code",
      "metadata": {
        "id": "VSqZMgxR9i53",
        "colab_type": "code",
        "colab": {}
      },
      "source": [
        "\n",
        "i = 0\n",
        "z = 0\n",
        "def chain(x):\n",
        "   temp = 0\n",
        "   while temp < x:\n",
        "      print(temp)\n",
        "      temp = temp + 1\n",
        "      z = temp\n",
        "\n",
        "flag = 'Y'\n",
        "while (flag.upper() == 'Y' or flag.upper() == 'YES'):\n",
        "   n = int(input(\"How many numbers:\\n\"))\n",
        "   chain(n)\n",
        "   flag = input(\" do you want to continue press Y/YES :\\n\")\n",
        "\n",
        "#if (flag.upper() == 'Y' or flag.upper() == 'YES'):"
      ],
      "execution_count": null,
      "outputs": []
    },
    {
      "cell_type": "code",
      "metadata": {
        "id": "tyX58G2vFcqI",
        "colab_type": "code",
        "colab": {}
      },
      "source": [
        "i = 0\n",
        "z = 0\n",
        "def chain(x):\n",
        "   z = x - 1\n",
        "   while temp < x:\n",
        "      print(z)\n",
        "      temp = temp + 1\n",
        "      z = temp\n",
        "flag = 'Y'\n",
        "while (flag.upper() == 'Y' or flag.upper() == 'YES'):\n",
        "   n = int(input(\"How many numbers:\\n\"))\n",
        "   p = n-1\n",
        "   chain(n)\n",
        "   flag = input(\" do you want to continue press Y/YES :\\n\")\n",
        "\n",
        "#if (flag.upper() == 'Y' or flag.upper() == 'YES'):"
      ],
      "execution_count": null,
      "outputs": []
    },
    {
      "cell_type": "code",
      "metadata": {
        "id": "6TA1ioU_GeoO",
        "colab_type": "code",
        "colab": {}
      },
      "source": [
        "# sum of n numbers sum of all number between 1 and given number\n",
        "sum1 = 0\n",
        "n = int(input(\"Please enter number \"))\n",
        "for i in range(1, n + 1, 1):\n",
        "    sum1 += i\n",
        "print(\"\\n\")\n",
        "print(\"Sum is: \", sum1)"
      ],
      "execution_count": null,
      "outputs": []
    },
    {
      "cell_type": "code",
      "metadata": {
        "id": "X9ZEmY3KKsTR",
        "colab_type": "code",
        "colab": {}
      },
      "source": [
        "#merging two data sets\n",
        "import pandas as pd\n",
        "df1 = pd.read_csv(\"data/surveys.csv\",keep_default_na=False, na_values=[\"\"])\n",
        "df2 = pd.read_csv(\"data/species.csv\",keep_default_na=False, na_values=[\"\"])\n",
        "# Read in first 10 lines of surveys table\n",
        "survey_sub = df1.head(10)\n",
        "# Grab the last 10 rows\n",
        "survey_sub_last10 = df2.tail(10)\n",
        "\n",
        "df_inner = pd.merge(df1, df2, on='date', how='inner')\n",
        "#on index \n",
        "df_index = pd.merge(df1, df2, right_index=True, left_index=True)\n",
        "\n",
        "merged_inner = pd.merge(left=survey_sub, right=species_sub, left_on='species_id', right_on='species_id')\n",
        "merged_left = pd.merge(left=survey_sub, right=species_sub, how='left', left_on='species_id', right_on='species_id')\n",
        "\n",
        "# merging\n",
        "# Stack the DataFrames on top of each other\n",
        "vertical_stack = pd.concat([survey_sub, survey_sub_last10], axis=0)\n",
        "\n",
        "# Place the DataFrames side by side\n",
        "horizontal_stack = pd.concat([survey_sub, survey_sub_last10], axis=1)\n",
        "# Write DataFrame to CSV\n",
        "vertical_stack.to_csv('data_output/out.csv', index=False)\n",
        "\n",
        "#renaming columns\n",
        "df_new = df.rename(columns={'A': 'a'}, index={'ONE': 'one'})\n",
        "df_new = df.rename(columns={'A': 'a', 'C': 'c'}))\n",
        "df_org.rename(columns={'A': 'a'}, index={'ONE': 'one'}, inplace=True)\n",
        "df.rename(str.lower, axis='columns')\n",
        "\n",
        "#summary tables\n",
        "\n",
        "import sidetable\n",
        "df.stb.freq(['State'])\n",
        "data['item'].count()\n",
        "data['duration'].max()\n",
        "\n",
        "data['duration'][data['item'] == 'call'].sum()\n",
        "data['month'].value_counts()\n",
        "\n",
        "data.groupby('month')['duration'].sum()\n",
        "# What is the sum of durations, for calls only, to each network\n",
        "data[data['item'] == 'call'].groupby('network')['duration'].sum()\n",
        "\n",
        "data.groupby(['month', 'item'])['date'].count()\n",
        "\n",
        "data.groupby(['month', 'network_type'])['date'].count()\n",
        "data.groupby('month')[['duration']].sum()\n",
        "\n",
        "#multiple aggregations\n",
        "\n",
        "data.groupby(\n",
        "   ['month', 'item']\n",
        ").agg(\n",
        "    {\n",
        "         'duration':sum,    # Sum duration per group\n",
        "         'network_type': \"count\",  # get the count of networks\n",
        "         'date': 'first'  # get the first date per group\n",
        "    }\n",
        ")\n",
        "\n",
        "\n",
        "###\n",
        "data[data['item'] == 'call'].groupby('month').agg(\n",
        "    # Get max of the duration column for each group\n",
        "    max_duration=('duration', max),\n",
        "    # Get min of the duration column for each group\n",
        "    min_duration=('duration', min),\n",
        "    # Get sum of the duration column for each group\n",
        "    total_duration=('duration', sum),\n",
        "    # Apply a lambda to date column\n",
        "    num_days=(\"date\", lambda x: (max(x) - min(x)).days)  \n",
        "\n",
        "\n",
        "b_rounded = round(1.9876, 2)\n",
        "print(b_rounded)\n",
        "\n",
        "\n",
        "b_formatted = format(1.9876, \".2f\")\n",
        "b_float = float(b_formatted)\n",
        "\n",
        "print(b_float)\n"
      ],
      "execution_count": null,
      "outputs": []
    },
    {
      "cell_type": "code",
      "metadata": {
        "id": "yRb4i16JMVUY",
        "colab_type": "code",
        "colab": {}
      },
      "source": [
        "df1 = pd.DataFrame({'employee': ['Bob', 'Jake', 'Lisa', 'Sue'],\n",
        "                    'group': ['Accounting', 'Engineering', 'Engineering', 'HR']})\n",
        "df2 = pd.DataFrame({'employee': ['Lisa', 'Bob', 'Jake', 'Sue'],\n",
        "                    'hire_date': [2004, 2008, 2012, 2014]})\n",
        "display('df1', 'df2')\n",
        "df3 = pd.merge(df1, df2)\n",
        "df3\n",
        "\n",
        "df4 = pd.DataFrame({'group': ['Accounting', 'Engineering', 'HR'],\n",
        "                    'supervisor': ['Carly', 'Guido', 'Steve']})\n",
        "display('df3', 'df4', 'pd.merge(df3, df4)')\n",
        "\n",
        "display('df1', 'df2', \"pd.merge(df1, df2, on='employee')\")"
      ],
      "execution_count": null,
      "outputs": []
    },
    {
      "cell_type": "code",
      "metadata": {
        "id": "AnzC-Wq4GiGc",
        "colab_type": "code",
        "colab": {}
      },
      "source": [
        "#multiplication table\n",
        "n = int(input(\"Please enter number \"))\n",
        "for i in range(1, 11, 1):\n",
        "    product = n*i\n",
        "    print(product)"
      ],
      "execution_count": null,
      "outputs": []
    },
    {
      "cell_type": "code",
      "metadata": {
        "id": "_W5H0PiyG67H",
        "colab_type": "code",
        "colab": {}
      },
      "source": [
        "#Given a list iterate it and display numbers which are divisible by 5 and if you find number greater than 150 stop the loop iteration\n",
        "list1 = [12, 15, 32, 42, 55, 75, 122, 132, 150, 180, 200]\n",
        "ipstr = input(\"enter list of numbers WITH SPACE: \")\n",
        "list = ipstr.split()\n",
        "for item in list1:\n",
        "    if (item > 150):\n",
        "        break\n",
        "    if(item % 5 == 0):\n",
        "        print(item)"
      ],
      "execution_count": null,
      "outputs": []
    },
    {
      "cell_type": "code",
      "metadata": {
        "id": "rIIst-lCHioy",
        "colab_type": "code",
        "colab": {}
      },
      "source": [
        "#to get no of digits\n",
        "count = 0\n",
        "num = int(input(\"Please enter number \"))\n",
        "while num != 0:\n",
        "    num //= 10\n",
        "    count+= 1\n",
        "print(\"Total digits are: \", count)"
      ],
      "execution_count": null,
      "outputs": []
    },
    {
      "cell_type": "code",
      "metadata": {
        "id": "exrDtee-IDMe",
        "colab_type": "code",
        "colab": {}
      },
      "source": [
        " #Reverse the following list using for loop\n",
        " list1 = [10, 20, 30, 40, 50]\n",
        "start = len(list1) - 1\n",
        "stop = -1\n",
        "step = -1\n",
        "for i in range(start, stop, step) :\n",
        "    print(list1[i])"
      ],
      "execution_count": null,
      "outputs": []
    },
    {
      "cell_type": "code",
      "metadata": {
        "id": "RoRwC-2DIVCX",
        "colab_type": "code",
        "colab": {}
      },
      "source": [
        "#Python program to display all the prime numbers within a range\n",
        "start = 25\n",
        "end = 50\n",
        "print(\"Prime numbers between\", start, \"and\", end, \"are:\")\n",
        "\n",
        "for num in range(start, end + 1):\n",
        "    # all prime numbers are greater than 1\n",
        "    # if number is less than or equal to 1, it is not prime\n",
        "    if num > 1:\n",
        "        for i in range(2, num):\n",
        "            # check for factors\n",
        "            if (num % i) == 0:\n",
        "                # not a prime number so break inner loop and\n",
        "                # look for next number\n",
        "                break\n",
        "        else:\n",
        "            print(num)"
      ],
      "execution_count": null,
      "outputs": []
    },
    {
      "cell_type": "code",
      "metadata": {
        "id": "K7iJSmHBIf3m",
        "colab_type": "code",
        "colab": {}
      },
      "source": [
        "#factorial\n",
        "num = 5\n",
        "factorial = 1\n",
        "if num < 0:\n",
        "    print(\"Factorial does not exist for negative numbers\")\n",
        "elif num == 0:\n",
        "    print(\"The factorial of 0 is 1\")\n",
        "else:\n",
        "    for i in range(1, num + 1):\n",
        "        factorial = factorial * i\n",
        "    print(\"The factorial of\", num, \"is\", factorial)"
      ],
      "execution_count": null,
      "outputs": []
    },
    {
      "cell_type": "code",
      "metadata": {
        "id": "Cm3sQDz6Im1S",
        "colab_type": "code",
        "colab": {}
      },
      "source": [
        "#reverse of number\n",
        "num = 76542\n",
        "reverse_number = 0\n",
        "print(\"Given Number \", num)\n",
        "while num > 0:\n",
        "    reminder = num % 10\n",
        "    reverse_number = (reverse_number * 10) + reminder\n",
        "    num = num // 10\n",
        "print(\"Revered Number \", reverse_number)"
      ],
      "execution_count": null,
      "outputs": []
    }
  ]
}