{
 "cells": [
  {
   "cell_type": "code",
   "execution_count": 6,
   "metadata": {},
   "outputs": [
    {
     "name": "stdout",
     "output_type": "stream",
     "text": [
      "enter list of numbers WITH SPACE: 1 2 3 4 5\n",
      "sum is :  15\n"
     ]
    }
   ],
   "source": [
    "#ASSIGNMENT 2   -- myreduce function\n",
    "#task 1.1\n",
    "ipstr = input(\"enter list of numbers WITH SPACE: \")\n",
    "list = ipstr.split()\n",
    "\n",
    "def myreduce(lst):\n",
    "    sum = 0\n",
    "    for i in lst:\n",
    "        sum = sum + int(i)\n",
    "    return sum\n",
    "print(\"sum is : \", myreduce(list))"
   ]
  },
  {
   "cell_type": "code",
   "execution_count": 7,
   "metadata": {},
   "outputs": [
    {
     "name": "stdout",
     "output_type": "stream",
     "text": [
      "enter list of letters with space:  q a e r\n",
      "The filtered vowels are:\n",
      "a\n",
      "e\n"
     ]
    }
   ],
   "source": [
    "#task 1.2 -- filter \n",
    "ipstr = input(\"enter list of letters with space: \")\n",
    "list = ipstr.split()\n",
    "\n",
    "def filterVowels(a):\n",
    "    vowels = ['a', 'e', 'i', 'o', 'u']\n",
    "\n",
    "    if(a in vowels):\n",
    "        return True\n",
    "    else:\n",
    "        return False\n",
    "\n",
    "filteredVowels = filter(filterVowels, list)\n",
    "\n",
    "print('The filtered vowels are:')\n",
    "for x in filteredVowels:\n",
    "    print(x)"
   ]
  },
  {
   "cell_type": "code",
   "execution_count": 8,
   "metadata": {},
   "outputs": [
    {
     "name": "stdout",
     "output_type": "stream",
     "text": [
      "['A', 'C', 'A', 'D', 'G', 'I', 'L', 'D']\n"
     ]
    }
   ],
   "source": [
    "#task 1.3\n",
    "h_letters = []\n",
    "\n",
    "for letter in 'ACADGILD':\n",
    "    h_letters.append(letter)\n",
    "\n",
    "print(h_letters)"
   ]
  },
  {
   "cell_type": "code",
   "execution_count": null,
   "metadata": {},
   "outputs": [],
   "source": []
  },
  {
   "cell_type": "code",
   "execution_count": 20,
   "metadata": {},
   "outputs": [
    {
     "name": "stdout",
     "output_type": "stream",
     "text": [
      "enter list of Words with space: hi hello how are you doing\n",
      "longest word is doing\n"
     ]
    }
   ],
   "source": [
    "#TASK 1.4 -- longest word\n",
    "ipstr = input(\"enter list of Words with space: \")\n",
    "list = ipstr.split()\n",
    "def longestWord(lst):\n",
    "    long = 0\n",
    "    j = -1\n",
    "    for i in lst:\n",
    "        j = j + 1\n",
    "        ln = len(i)\n",
    "        if ln > long:\n",
    "            long = ln\n",
    "            idx = j\n",
    "    return lst[j]\n",
    "\n",
    "print(\"longest word is\", longestWord(list))\n",
    "        "
   ]
  },
  {
   "cell_type": "code",
   "execution_count": 24,
   "metadata": {},
   "outputs": [
    {
     "name": "stdout",
     "output_type": "stream",
     "text": [
      "enter the sides of trianagle with space: 3 4 5\n",
      "area of triangle is:  6.0\n"
     ]
    }
   ],
   "source": [
    "# task 2.1  -- area of the triangle\n",
    "ipstr = (input(\"enter the sides of trianagle with space: \"))\n",
    "list = ipstr.split()\n",
    "a = int(list[0])\n",
    "b = int(list[1])\n",
    "c = int(list[2])\n",
    "\n",
    "def areatri(a,b,c):\n",
    "    s = (a + b + c) / 2\n",
    "    area = (s*(s-a)*(s-b)*(s-c)) ** 0.5\n",
    "    return area\n",
    "print(\"area of triangle is: \" , areatri(a,b,c))"
   ]
  },
  {
   "cell_type": "code",
   "execution_count": 29,
   "metadata": {},
   "outputs": [
    {
     "name": "stdout",
     "output_type": "stream",
     "text": [
      "enter the words with space: hi hello dad mom\n",
      "enter Comparision length2\n",
      " words greater than length 2 are:\n",
      "hello\n",
      "dad\n",
      "mom\n"
     ]
    }
   ],
   "source": [
    "#task 2.2 Write a function filter_long_words() that takes a list of words and an integer n and returns the list\n",
    "# of words that are longer than n.\n",
    "\n",
    "ipstr = (input(\"enter the words with space: \"))\n",
    "list = ipstr.split()\n",
    "n = int(input(\"enter Comparision length\"))\n",
    "def filter_long_words(lst,n):\n",
    "    ln = 0\n",
    "    list2 =[]\n",
    "    for i in lst:\n",
    "        ln = len(i)\n",
    "        if ln > n:\n",
    "            list2.append(i)\n",
    "    for j in list2:\n",
    "        print(j)\n",
    "print(\" words greater than length\", n, \"are:\")\n",
    "filter_long_words(list,n)       "
   ]
  },
  {
   "cell_type": "code",
   "execution_count": 31,
   "metadata": {},
   "outputs": [
    {
     "name": "stdout",
     "output_type": "stream",
     "text": [
      "enter the list of words with space: hello how do\n",
      " the word lenths of given list are:\n",
      "5\n",
      "3\n",
      "2\n"
     ]
    }
   ],
   "source": [
    "#task 2.3 that maps list of words into a list of integers\n",
    "ipstr = (input(\"enter the list of words with space: \"))\n",
    "list = ipstr.split()\n",
    "def len_words(lst):\n",
    "    ln = 0\n",
    "    list2 =[]\n",
    "    for i in lst:\n",
    "        ln = len(i)\n",
    "        list2.append(ln)\n",
    "    for j in list2:\n",
    "        print(j,sep = \", \")\n",
    "print(\" the word lenths of given list are:\")\n",
    "len_words(list)  "
   ]
  },
  {
   "cell_type": "code",
   "execution_count": 40,
   "metadata": {},
   "outputs": [
    {
     "name": "stdout",
     "output_type": "stream",
     "text": [
      "enter the character V\n",
      " given letter V is vowel?  False\n"
     ]
    }
   ],
   "source": [
    "# task 2.4 vowel find\n",
    "ipstr = input(\"enter the character \")\n",
    "def vowel(i):\n",
    "    i = i.lower()\n",
    "    if i in ['a','e','i','o','u']:\n",
    "        return True\n",
    "    else:\n",
    "        return False\n",
    "print(\" given letter\", ipstr, \"is vowel? \", vowel(ipstr))"
   ]
  }
 ],
 "metadata": {
  "kernelspec": {
   "display_name": "Python 3",
   "language": "python",
   "name": "python3"
  },
  "language_info": {
   "codemirror_mode": {
    "name": "ipython",
    "version": 3
   },
   "file_extension": ".py",
   "mimetype": "text/x-python",
   "name": "python",
   "nbconvert_exporter": "python",
   "pygments_lexer": "ipython3",
   "version": "3.7.1"
  }
 },
 "nbformat": 4,
 "nbformat_minor": 2
}
