{
  "nbformat": 4,
  "nbformat_minor": 0,
  "metadata": {
    "colab": {
      "name": "Untitled2.ipynb",
      "provenance": [],
      "authorship_tag": "ABX9TyN9aUQxxVPH3emfg5+TYd05",
      "include_colab_link": true
    },
    "kernelspec": {
      "name": "python3",
      "display_name": "Python 3"
    }
  },
  "cells": [
    {
      "cell_type": "markdown",
      "metadata": {
        "id": "view-in-github",
        "colab_type": "text"
      },
      "source": [
        "<a href=\"https://colab.research.google.com/github/JOSEPHREDDY07/Ineuron_ml_deployment_trng/blob/master/assignment4.ipynb\" target=\"_parent\"><img src=\"https://colab.research.google.com/assets/colab-badge.svg\" alt=\"Open In Colab\"/></a>"
      ]
    },
    {
      "cell_type": "code",
      "metadata": {
        "id": "hYzblLSS0eCB",
        "colab_type": "code",
        "colab": {
          "base_uri": "https://localhost:8080/",
          "height": 136
        },
        "outputId": "a363ddf1-2555-4d52-88c1-e811fd49a451"
      },
      "source": [
        "#assignment 4\n",
        "#The moving average sequence has n-k+1 elements\n",
        "ip = [10, 20, 30, 40, 50, 60, 70, 80, 90, 100]\n",
        "k = 4\n",
        "mvg = 0\n",
        "fmv = 0\n",
        "y = (len(ip)-4+1)\n",
        "#print (k)\n",
        "\n",
        "for j in range(0,y):\n",
        "  z = 1\n",
        "  mvg = 0\n",
        "  for i in range(0,k):\n",
        "    #print(i,j, ip[i+j])\n",
        "    mvg = ip[i+j] + mvg\n",
        "    z = z + 1\n",
        "  fmvg = mvg/k\n",
        "  print(\"iteration:\", j, \"--\", mvg, fmvg)\n",
        "  "
      ],
      "execution_count": 22,
      "outputs": [
        {
          "output_type": "stream",
          "text": [
            "iteration: 0 -- 100 25.0\n",
            "iteration: 1 -- 140 35.0\n",
            "iteration: 2 -- 180 45.0\n",
            "iteration: 3 -- 220 55.0\n",
            "iteration: 4 -- 260 65.0\n",
            "iteration: 5 -- 300 75.0\n",
            "iteration: 6 -- 340 85.0\n"
          ],
          "name": "stdout"
        }
      ]
    },
    {
      "cell_type": "code",
      "metadata": {
        "id": "YS7MR6y8JdLX",
        "colab_type": "code",
        "colab": {
          "base_uri": "https://localhost:8080/",
          "height": 187
        },
        "outputId": "94e2ae47-b282-4710-a1e2-b51ad5960777"
      },
      "source": [
        "#function to find moving average in an array over a window:\n",
        "ip = [3, 5, 7, 2, 8, 10, 11, 65, 72, 81, 99, 100, 150]\n",
        "k = 3\n",
        "mvg = 0\n",
        "fmv = 0\n",
        "y = (len(ip)-4+1)\n",
        "#print (k)\n",
        "\n",
        "for j in range(0,y):\n",
        "  z = 1\n",
        "  mvg = 0\n",
        "  for i in range(0,k):\n",
        "    #print(i,j, ip[i+j])\n",
        "    mvg = ip[i+j] + mvg\n",
        "    z = z + 1\n",
        "  fmvg = mvg/k\n",
        "  print(\"iteration:\", j, \"--\", mvg, fmvg)"
      ],
      "execution_count": 23,
      "outputs": [
        {
          "output_type": "stream",
          "text": [
            "iteration: 0 -- 15 5.0\n",
            "iteration: 1 -- 14 4.666666666666667\n",
            "iteration: 2 -- 17 5.666666666666667\n",
            "iteration: 3 -- 20 6.666666666666667\n",
            "iteration: 4 -- 29 9.666666666666666\n",
            "iteration: 5 -- 86 28.666666666666668\n",
            "iteration: 6 -- 148 49.333333333333336\n",
            "iteration: 7 -- 218 72.66666666666667\n",
            "iteration: 8 -- 252 84.0\n",
            "iteration: 9 -- 280 93.33333333333333\n"
          ],
          "name": "stdout"
        }
      ]
    },
    {
      "cell_type": "code",
      "metadata": {
        "id": "-lveHC5bKKfm",
        "colab_type": "code",
        "colab": {
          "base_uri": "https://localhost:8080/",
          "height": 359
        },
        "outputId": "999f6128-ab83-49a4-ae3d-f052a09dc2b3"
      },
      "source": [
        "#How-to-count-distance-to-the-previous-zero\n",
        "import pandas as pd\n",
        "df = pd.DataFrame({'X': [7, 2, 0, 3, 4, 2, 5, 0, 3, 4]})\n",
        "df"
      ],
      "execution_count": 24,
      "outputs": [
        {
          "output_type": "execute_result",
          "data": {
            "text/html": [
              "<div>\n",
              "<style scoped>\n",
              "    .dataframe tbody tr th:only-of-type {\n",
              "        vertical-align: middle;\n",
              "    }\n",
              "\n",
              "    .dataframe tbody tr th {\n",
              "        vertical-align: top;\n",
              "    }\n",
              "\n",
              "    .dataframe thead th {\n",
              "        text-align: right;\n",
              "    }\n",
              "</style>\n",
              "<table border=\"1\" class=\"dataframe\">\n",
              "  <thead>\n",
              "    <tr style=\"text-align: right;\">\n",
              "      <th></th>\n",
              "      <th>X</th>\n",
              "    </tr>\n",
              "  </thead>\n",
              "  <tbody>\n",
              "    <tr>\n",
              "      <th>0</th>\n",
              "      <td>7</td>\n",
              "    </tr>\n",
              "    <tr>\n",
              "      <th>1</th>\n",
              "      <td>2</td>\n",
              "    </tr>\n",
              "    <tr>\n",
              "      <th>2</th>\n",
              "      <td>0</td>\n",
              "    </tr>\n",
              "    <tr>\n",
              "      <th>3</th>\n",
              "      <td>3</td>\n",
              "    </tr>\n",
              "    <tr>\n",
              "      <th>4</th>\n",
              "      <td>4</td>\n",
              "    </tr>\n",
              "    <tr>\n",
              "      <th>5</th>\n",
              "      <td>2</td>\n",
              "    </tr>\n",
              "    <tr>\n",
              "      <th>6</th>\n",
              "      <td>5</td>\n",
              "    </tr>\n",
              "    <tr>\n",
              "      <th>7</th>\n",
              "      <td>0</td>\n",
              "    </tr>\n",
              "    <tr>\n",
              "      <th>8</th>\n",
              "      <td>3</td>\n",
              "    </tr>\n",
              "    <tr>\n",
              "      <th>9</th>\n",
              "      <td>4</td>\n",
              "    </tr>\n",
              "  </tbody>\n",
              "</table>\n",
              "</div>"
            ],
            "text/plain": [
              "   X\n",
              "0  7\n",
              "1  2\n",
              "2  0\n",
              "3  3\n",
              "4  4\n",
              "5  2\n",
              "6  5\n",
              "7  0\n",
              "8  3\n",
              "9  4"
            ]
          },
          "metadata": {
            "tags": []
          },
          "execution_count": 24
        }
      ]
    }
  ]
}