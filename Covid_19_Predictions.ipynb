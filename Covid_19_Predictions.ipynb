{
  "nbformat": 4,
  "nbformat_minor": 0,
  "metadata": {
    "colab": {
      "name": "Covid-19 Predictions.ipynb",
      "provenance": [],
      "collapsed_sections": [],
      "include_colab_link": true
    },
    "kernelspec": {
      "name": "python3",
      "display_name": "Python 3"
    },
    "accelerator": "GPU"
  },
  "cells": [
    {
      "cell_type": "markdown",
      "metadata": {
        "id": "view-in-github",
        "colab_type": "text"
      },
      "source": [
        "<a href=\"https://colab.research.google.com/github/JOSEPHREDDY07/Ineuron_ml_deployment_trng/blob/master/Covid_19_Predictions.ipynb\" target=\"_parent\"><img src=\"https://colab.research.google.com/assets/colab-badge.svg\" alt=\"Open In Colab\"/></a>"
      ]
    },
    {
      "cell_type": "markdown",
      "metadata": {
        "id": "kD_h7R8kPvS0",
        "colab_type": "text"
      },
      "source": [
        "**<span style=\"color: red;\">I would like to thank all those who expressed their gratitude for my previous prediction which were close enough to the actual confirmed cases.</span>**\n",
        "\n",
        "**<span style=\"color: red;\">This is an updated version of my previous prediction. I have been receiving queries from people regarding my future predictions. So here it is for those who have been eagerly waiting for it.</span>**\n",
        "\n",
        "**<span style=\"color: green;\">In this new version I have also predicted the death and recovery rate.</span>**"
      ]
    },
    {
      "cell_type": "markdown",
      "metadata": {
        "id": "MvDWpr8bPvS1",
        "colab_type": "text"
      },
      "source": [
        "# This notebook has been divided into three sections\n",
        "\n",
        "### Section 1- Simple time series analysis of covid cases using general forecasting models and ARIMA model with taking any exogenous features into account.\n",
        "\n",
        "### Section 2- Here the no of confirmed cases has been predicted taking into account the no of tests(extrapolating it five days down the line).\n",
        "\n",
        "### Section 3- Here the average growth rate of covid cases,recovery rate and death rate has been analyzed and further time series analysis has been performed for prediction of deceased cases and recovered cases."
      ]
    },
    {
      "cell_type": "markdown",
      "metadata": {
        "id": "19tyy0PyPvS3",
        "colab_type": "text"
      },
      "source": [
        "# Introduction\n",
        "\n",
        "> This notebook predicts outcome of confirmed cases in India in the forthcoming week.\n",
        "\n",
        "> Different forecasting methods such as\n",
        "  \n",
        "  \n",
        "  -Simple Exponential Smoothing\n",
        "  \n",
        "  -Holt Winter's Method\n",
        "  \n",
        "  -SARIMA Model\n",
        " \n",
        " > have been used in predicting the outcomes.\n",
        " \n",
        "> The data has been taken from www.covid19india.org\n",
        "\n",
        "> This kernel is an updated version of my previous one\n",
        "\n",
        "> I would like to thank those who expressed their gratitude by upvoting and people were also "
      ]
    },
    {
      "cell_type": "code",
      "metadata": {
        "id": "jhpqz4a5Xw6D",
        "trusted": true,
        "colab_type": "code",
        "colab": {}
      },
      "source": [
        "# Importing relevant libraries\n",
        "import pandas as pd\n",
        "import numpy as np\n",
        "import matplotlib.pyplot as plt"
      ],
      "execution_count": 0,
      "outputs": []
    },
    {
      "cell_type": "code",
      "metadata": {
        "id": "F2alUo9l1JNQ",
        "trusted": true,
        "colab_type": "code",
        "colab": {}
      },
      "source": [
        "import warnings\n",
        "warnings.filterwarnings(\"ignore\")"
      ],
      "execution_count": 0,
      "outputs": []
    },
    {
      "cell_type": "code",
      "metadata": {
        "trusted": true,
        "id": "eVq0ldqzPvTF",
        "colab_type": "code",
        "colab": {}
      },
      "source": [
        "import os\n",
        "for dirname, _, filenames in os.walk('/kaggle/input'):\n",
        "    for filename in filenames:\n",
        "        print(os.path.join(dirname, filename))"
      ],
      "execution_count": 0,
      "outputs": []
    },
    {
      "cell_type": "code",
      "metadata": {
        "id": "_wucDIBI7tRg",
        "trusted": true,
        "colab_type": "code",
        "colab": {}
      },
      "source": [
        "df=pd.read_csv('/kaggle/input/covid19updated/case_time_series.csv')\n",
        "testing=pd.read_csv('/kaggle/input/updated-testing/tested_numbers_icmr_data.csv')"
      ],
      "execution_count": 0,
      "outputs": []
    },
    {
      "cell_type": "code",
      "metadata": {
        "trusted": true,
        "id": "hIOpIe76PvTO",
        "colab_type": "code",
        "colab": {}
      },
      "source": [
        "df.info()"
      ],
      "execution_count": 0,
      "outputs": []
    },
    {
      "cell_type": "code",
      "metadata": {
        "trusted": true,
        "id": "ClfWg1WEPvTR",
        "colab_type": "code",
        "colab": {}
      },
      "source": [
        "testing.info()"
      ],
      "execution_count": 0,
      "outputs": []
    },
    {
      "cell_type": "code",
      "metadata": {
        "trusted": true,
        "id": "bIERcv9LPvTU",
        "colab_type": "code",
        "colab": {}
      },
      "source": [
        "df.head()"
      ],
      "execution_count": 0,
      "outputs": []
    },
    {
      "cell_type": "code",
      "metadata": {
        "trusted": true,
        "id": "brwiI0NlPvTX",
        "colab_type": "code",
        "colab": {}
      },
      "source": [
        "df.tail()"
      ],
      "execution_count": 0,
      "outputs": []
    },
    {
      "cell_type": "code",
      "metadata": {
        "trusted": true,
        "id": "YplaLW9rPvTZ",
        "colab_type": "code",
        "colab": {}
      },
      "source": [
        "df['Date'] = df['Date'].str.replace(' ','-')\n",
        "df['Date'] = df['Date'].str.replace('January','01')\n",
        "df['Date'] = df['Date'].str.replace('February','02')\n",
        "df['Date'] = df['Date'].str.replace('March','03')\n",
        "df['Date'] = df['Date'].str.replace('April','04')\n",
        "df['Date'] = df['Date'].str.replace('May','05')"
      ],
      "execution_count": 0,
      "outputs": []
    },
    {
      "cell_type": "code",
      "metadata": {
        "trusted": true,
        "id": "Wxpcwac4PvTe",
        "colab_type": "code",
        "colab": {}
      },
      "source": [
        "df.tail()"
      ],
      "execution_count": 0,
      "outputs": []
    },
    {
      "cell_type": "code",
      "metadata": {
        "trusted": true,
        "id": "I3bZo0TrPvTh",
        "colab_type": "code",
        "colab": {}
      },
      "source": [
        "df.loc[:,'Date'] = df.loc[:,'Date']+'2020'"
      ],
      "execution_count": 0,
      "outputs": []
    },
    {
      "cell_type": "code",
      "metadata": {
        "trusted": true,
        "id": "NN59fc7ePvTl",
        "colab_type": "code",
        "colab": {}
      },
      "source": [
        "df.tail()"
      ],
      "execution_count": 0,
      "outputs": []
    },
    {
      "cell_type": "code",
      "metadata": {
        "trusted": true,
        "id": "JnrmqB0fPvTn",
        "colab_type": "code",
        "colab": {}
      },
      "source": [
        "df['Date']=pd.to_datetime(df['Date'],format='%d-%m-%Y')"
      ],
      "execution_count": 0,
      "outputs": []
    },
    {
      "cell_type": "code",
      "metadata": {
        "trusted": true,
        "id": "pf7Y9O4mPvTq",
        "colab_type": "code",
        "colab": {}
      },
      "source": [
        "df.head()"
      ],
      "execution_count": 0,
      "outputs": []
    },
    {
      "cell_type": "code",
      "metadata": {
        "id": "WJfAo3RZYnt7",
        "trusted": true,
        "colab_type": "code",
        "colab": {}
      },
      "source": [
        "# Making the date column as index\n",
        "df.index=df['Date']\n",
        "df.drop(['Date'],axis=1,inplace=True)"
      ],
      "execution_count": 0,
      "outputs": []
    },
    {
      "cell_type": "code",
      "metadata": {
        "id": "SmtBRXgBfrje",
        "trusted": true,
        "colab_type": "code",
        "colab": {}
      },
      "source": [
        "df.head()"
      ],
      "execution_count": 0,
      "outputs": []
    },
    {
      "cell_type": "code",
      "metadata": {
        "id": "gsjoJZ9rftIu",
        "trusted": true,
        "colab_type": "code",
        "colab": {}
      },
      "source": [
        "# Setting the frequency to Daily basis.\n",
        "df=df.asfreq(freq='D')"
      ],
      "execution_count": 0,
      "outputs": []
    },
    {
      "cell_type": "code",
      "metadata": {
        "id": "HSQ0HIoUmaKp",
        "trusted": true,
        "colab_type": "code",
        "colab": {}
      },
      "source": [
        "# Plot of Daily Confirmed Cases in India\n",
        "df['Daily Confirmed'].plot(figsize=(22,6),title='Daily Confirmed Cases');"
      ],
      "execution_count": 0,
      "outputs": []
    },
    {
      "cell_type": "markdown",
      "metadata": {
        "id": "NLwKwX-iPvT_",
        "colab_type": "text"
      },
      "source": [
        "## ETS Decomposition"
      ]
    },
    {
      "cell_type": "code",
      "metadata": {
        "id": "s50rmXdXr5ln",
        "trusted": true,
        "colab_type": "code",
        "colab": {}
      },
      "source": [
        "from statsmodels.tsa.seasonal import seasonal_decompose"
      ],
      "execution_count": 0,
      "outputs": []
    },
    {
      "cell_type": "code",
      "metadata": {
        "id": "VdYzfDGNsXk9",
        "trusted": true,
        "colab_type": "code",
        "colab": {}
      },
      "source": [
        "results = seasonal_decompose(df['Daily Confirmed'])"
      ],
      "execution_count": 0,
      "outputs": []
    },
    {
      "cell_type": "code",
      "metadata": {
        "id": "ifuLc3rcsfkg",
        "trusted": true,
        "colab_type": "code",
        "colab": {}
      },
      "source": [
        "results.plot();"
      ],
      "execution_count": 0,
      "outputs": []
    },
    {
      "cell_type": "code",
      "metadata": {
        "id": "GJ0CEPEdFCBC",
        "trusted": true,
        "colab_type": "code",
        "colab": {}
      },
      "source": [
        "results.seasonal.plot(figsize=(20,10));"
      ],
      "execution_count": 0,
      "outputs": []
    },
    {
      "cell_type": "code",
      "metadata": {
        "trusted": true,
        "id": "bxqiraIrPvUO",
        "colab_type": "code",
        "colab": {}
      },
      "source": [
        "results.trend.plot(figsize=(20,10));"
      ],
      "execution_count": 0,
      "outputs": []
    },
    {
      "cell_type": "code",
      "metadata": {
        "id": "T6Fr7UD4siYN",
        "trusted": true,
        "colab_type": "code",
        "colab": {}
      },
      "source": [
        "len(df)"
      ],
      "execution_count": 0,
      "outputs": []
    },
    {
      "cell_type": "markdown",
      "metadata": {
        "id": "jvWgWMJ2PvUU",
        "colab_type": "text"
      },
      "source": [
        "### Splitting the data into training and testing set"
      ]
    },
    {
      "cell_type": "code",
      "metadata": {
        "id": "F4Pm_KNauOMV",
        "trusted": true,
        "colab_type": "code",
        "colab": {}
      },
      "source": [
        "train=df.iloc[:93]\n",
        "test=df.iloc[93:]"
      ],
      "execution_count": 0,
      "outputs": []
    },
    {
      "cell_type": "markdown",
      "metadata": {
        "id": "DwkWfR67PvUX",
        "colab_type": "text"
      },
      "source": [
        "As there were no reported cases in India from 4th February 2020 to 1st March 2020. So the curve isn't strictly increasing as a result we cannot use multiplicative trend or assume seasonality to be multiplicative so we have only used additive trend."
      ]
    },
    {
      "cell_type": "markdown",
      "metadata": {
        "id": "Tt7amZf4PvUX",
        "colab_type": "text"
      },
      "source": [
        "### Simple Exponential Smoothing"
      ]
    },
    {
      "cell_type": "code",
      "metadata": {
        "trusted": true,
        "id": "rGOL-BToPvUY",
        "colab_type": "code",
        "colab": {}
      },
      "source": [
        "# Simple Exponential Smoothing\n",
        "\n",
        "from statsmodels.tsa.holtwinters import SimpleExpSmoothing\n",
        "\n",
        "span = 5\n",
        "alpha = 2/(span+1)\n",
        "\n",
        "df['EWMA5'] = df['Daily Confirmed'].ewm(alpha=alpha,adjust=False).mean()\n",
        "df['SES5']=SimpleExpSmoothing(df['Daily Confirmed']).fit(smoothing_level=alpha,optimized=False).fittedvalues.shift(-1)\n",
        "df.head()"
      ],
      "execution_count": 0,
      "outputs": []
    },
    {
      "cell_type": "code",
      "metadata": {
        "trusted": true,
        "id": "s0PjVe3cPvUa",
        "colab_type": "code",
        "colab": {}
      },
      "source": [
        "df[['Daily Confirmed','EWMA5','SES5']].iloc[-14:].plot(figsize=(12,6)).autoscale(axis='x',tight=True);"
      ],
      "execution_count": 0,
      "outputs": []
    },
    {
      "cell_type": "markdown",
      "metadata": {
        "id": "zc-s__m-PvUc",
        "colab_type": "text"
      },
      "source": [
        "### Double Exponential Smoothing"
      ]
    },
    {
      "cell_type": "code",
      "metadata": {
        "trusted": true,
        "id": "30rZCd8KPvUc",
        "colab_type": "code",
        "colab": {}
      },
      "source": [
        "from statsmodels.tsa.holtwinters import ExponentialSmoothing\n",
        "\n",
        "# Double Exponential Smoothing\n",
        "\n",
        "df['DESadd5'] = ExponentialSmoothing(df['Daily Confirmed'], trend='add').fit().fittedvalues.shift(-1)\n",
        "df.head()"
      ],
      "execution_count": 0,
      "outputs": []
    },
    {
      "cell_type": "code",
      "metadata": {
        "trusted": true,
        "id": "FUE4VNGyPvUi",
        "colab_type": "code",
        "colab": {}
      },
      "source": [
        "df[['Daily Confirmed','EWMA5','DESadd5']].iloc[-14:].plot(figsize=(12,6)).autoscale(axis='x',tight=True);"
      ],
      "execution_count": 0,
      "outputs": []
    },
    {
      "cell_type": "markdown",
      "metadata": {
        "id": "9r7U5Wm_PvUk",
        "colab_type": "text"
      },
      "source": [
        "Here we can see that Double Exponential Smoothing is a much better representation of the time series data than Simple Exponential Smoothing.<br>\n",
        "Let's see if using a multiplicative trend adjustment helps."
      ]
    },
    {
      "cell_type": "markdown",
      "metadata": {
        "id": "1ixMQeUsPvUk",
        "colab_type": "text"
      },
      "source": [
        "___\n",
        "## Triple Exponential Smoothing\n",
        "Triple Exponential Smoothing, the method most closely associated with Holt-Winters, adds support for both trends and seasonality in the data. \n"
      ]
    },
    {
      "cell_type": "code",
      "metadata": {
        "trusted": true,
        "id": "paumPe30PvUl",
        "colab_type": "code",
        "colab": {}
      },
      "source": [
        "df['TESadd5'] = ExponentialSmoothing(df['Daily Confirmed'],trend='add',seasonal='add',seasonal_periods=5).fit().fittedvalues\n",
        "df.head()"
      ],
      "execution_count": 0,
      "outputs": []
    },
    {
      "cell_type": "code",
      "metadata": {
        "trusted": true,
        "id": "gDDwfNBHPvUn",
        "colab_type": "code",
        "colab": {}
      },
      "source": [
        "df[['Daily Confirmed','TESadd5']].iloc[-14:].plot(figsize=(12,6)).autoscale(axis='x',tight=True);"
      ],
      "execution_count": 0,
      "outputs": []
    },
    {
      "cell_type": "code",
      "metadata": {
        "id": "rrnbnUkzxM-p",
        "trusted": true,
        "colab_type": "code",
        "colab": {}
      },
      "source": [
        "from statsmodels.tsa.stattools import adfuller\n",
        "\n",
        "def adf_test(series,title=''):\n",
        "    \"\"\"\n",
        "    Pass in a time series and an optional title, returns an ADF report\n",
        "    \"\"\"\n",
        "    print(f'Augmented Dickey-Fuller Test: {title}')\n",
        "    result = adfuller(series.dropna(),autolag='AIC') # .dropna() handles differenced data\n",
        "    \n",
        "    labels = ['ADF test statistic','p-value','# lags used','# observations']\n",
        "    out = pd.Series(result[0:4],index=labels)\n",
        "\n",
        "    for key,val in result[4].items():\n",
        "        out[f'critical value ({key})']=val\n",
        "        \n",
        "    print(out.to_string())          # .to_string() removes the line \"dtype: float64\"\n",
        "    \n",
        "    if result[1] <= 0.05:\n",
        "        print(\"Strong evidence against the null hypothesis\")\n",
        "        print(\"Reject the null hypothesis\")\n",
        "        print(\"Data has no unit root and is stationary\")\n",
        "    else:\n",
        "        print(\"Weak evidence against the null hypothesis\")\n",
        "        print(\"Fail to reject the null hypothesis\")\n",
        "        print(\"Data has a unit root and is non-stationary\")"
      ],
      "execution_count": 0,
      "outputs": []
    },
    {
      "cell_type": "code",
      "metadata": {
        "id": "FCdOYi9dyyHF",
        "trusted": true,
        "colab_type": "code",
        "colab": {}
      },
      "source": [
        "adf_test(df['Daily Confirmed'])"
      ],
      "execution_count": 0,
      "outputs": []
    },
    {
      "cell_type": "code",
      "metadata": {
        "id": "MgzqDMYY20pg",
        "trusted": true,
        "colab_type": "code",
        "colab": {}
      },
      "source": [
        "from statsmodels.tsa.statespace.tools import diff\n",
        "df['d1'] = diff(df['Daily Confirmed'],k_diff=1)\n",
        "\n",
        "adf_test(df['d1'],'')"
      ],
      "execution_count": 0,
      "outputs": []
    },
    {
      "cell_type": "code",
      "metadata": {
        "trusted": true,
        "id": "QmvJy0_wPvUz",
        "colab_type": "code",
        "colab": {}
      },
      "source": [
        "from statsmodels.tsa.statespace.tools import diff\n",
        "df['d2'] = diff(df['Daily Confirmed'],k_diff=2)\n",
        "\n",
        "adf_test(df['d2'],'')"
      ],
      "execution_count": 0,
      "outputs": []
    },
    {
      "cell_type": "code",
      "metadata": {
        "id": "Y1Dvi_IUz4Tp",
        "trusted": true,
        "colab_type": "code",
        "colab": {}
      },
      "source": [
        "pip install pyramid-arima"
      ],
      "execution_count": 0,
      "outputs": []
    },
    {
      "cell_type": "code",
      "metadata": {
        "id": "3ucXksQYy7N6",
        "trusted": true,
        "colab_type": "code",
        "colab": {}
      },
      "source": [
        "from pyramid.arima import auto_arima"
      ],
      "execution_count": 0,
      "outputs": []
    },
    {
      "cell_type": "code",
      "metadata": {
        "trusted": true,
        "id": "9kBIvvh-PvU8",
        "colab_type": "code",
        "colab": {}
      },
      "source": [
        "train=df.iloc[:93]\n",
        "test=df.iloc[93:]"
      ],
      "execution_count": 0,
      "outputs": []
    },
    {
      "cell_type": "code",
      "metadata": {
        "id": "xHu0FqaJz7pR",
        "trusted": true,
        "colab_type": "code",
        "colab": {}
      },
      "source": [
        "# Auto Arima Model\n",
        "\n",
        "stepwise_model = auto_arima(train['Daily Confirmed'], start_p=0, start_q=0, max_p=5, max_q=5,m=5,seasonality=True,\n",
        "d=2,D=2,trace=True,error_action='ignore',suppress_warnings=True,stepwise=True)\n",
        "\n",
        "print(stepwise_model.aic())"
      ],
      "execution_count": 0,
      "outputs": []
    },
    {
      "cell_type": "code",
      "metadata": {
        "id": "5vJQuazb1eri",
        "trusted": true,
        "colab_type": "code",
        "colab": {}
      },
      "source": [
        "from statsmodels.tsa.statespace.sarimax import SARIMAX"
      ],
      "execution_count": 0,
      "outputs": []
    },
    {
      "cell_type": "code",
      "metadata": {
        "id": "mkFlikQy0mUl",
        "trusted": true,
        "colab_type": "code",
        "colab": {}
      },
      "source": [
        "model = SARIMAX(train['Daily Confirmed'],order=(3,2,2),seasonal_order=(0,2,2,5),enforce_invertibility=True)\n",
        "results = model.fit()\n",
        "results.summary()"
      ],
      "execution_count": 0,
      "outputs": []
    },
    {
      "cell_type": "code",
      "metadata": {
        "id": "dhiob7g81gyD",
        "trusted": true,
        "colab_type": "code",
        "colab": {}
      },
      "source": [
        "start=len(train)\n",
        "end=len(train)+len(test)-1\n",
        "predictions = results.predict(start=start, end=end, dynamic=False,typ='levels').rename('SARIMA(2,2,1)(0,2,2,5) Predictions')"
      ],
      "execution_count": 0,
      "outputs": []
    },
    {
      "cell_type": "code",
      "metadata": {
        "id": "f2RIRotl1vsS",
        "trusted": true,
        "colab_type": "code",
        "colab": {}
      },
      "source": [
        "title='Covid-19 India Daily Confirmed Cases'\n",
        "ylabel='Persons'\n",
        "\n",
        "ax = test['Daily Confirmed'].plot(legend=True,figsize=(12,6),title=title)\n",
        "predictions.plot(legend=True);\n",
        "ax.autoscale(axis='x',tight=True);\n",
        "ax.set(ylabel=ylabel);"
      ],
      "execution_count": 0,
      "outputs": []
    },
    {
      "cell_type": "code",
      "metadata": {
        "id": "T8IkDWQA2I0J",
        "trusted": true,
        "colab_type": "code",
        "colab": {}
      },
      "source": [
        "from statsmodels.tools.eval_measures import rmse,meanabs\n",
        "\n",
        "error = rmse(test['Daily Confirmed'], predictions)\n",
        "print(f'SARIMAX(2,2,1)(0,2,2,5) RMSE Error: {error:11.10}')"
      ],
      "execution_count": 0,
      "outputs": []
    },
    {
      "cell_type": "code",
      "metadata": {
        "trusted": true,
        "id": "3LmDUnuvPvVS",
        "colab_type": "code",
        "colab": {}
      },
      "source": [
        "model = SARIMAX(df['Daily Confirmed'],order=(3,2,2),seasonal_order=(0,2,2,5),enforce_invertibility=True)\n",
        "results = model.fit()\n",
        "fcast = results.predict(len(df),len(df)+5).rename('SARIMAX(3,2,2)(0,2,2,5) Forecast')"
      ],
      "execution_count": 0,
      "outputs": []
    },
    {
      "cell_type": "code",
      "metadata": {
        "trusted": true,
        "id": "0wnkrR-nPvVV",
        "colab_type": "code",
        "colab": {}
      },
      "source": [
        "fcast"
      ],
      "execution_count": 0,
      "outputs": []
    },
    {
      "cell_type": "code",
      "metadata": {
        "trusted": true,
        "id": "lfrZy4XcPvVY",
        "colab_type": "code",
        "colab": {}
      },
      "source": [
        "title='Confirmed patients for covid-19 in India'\n",
        "ylabel='Patients'\n",
        "ax = df['Daily Confirmed'].plot(legend=True,figsize=(12,6),title=title)\n",
        "fcast.plot(legend=True);\n",
        "ax.autoscale(axis='x',tight=True);\n",
        "ax.set(ylabel=ylabel);"
      ],
      "execution_count": 0,
      "outputs": []
    },
    {
      "cell_type": "code",
      "metadata": {
        "trusted": true,
        "id": "-reMHgGgPvVZ",
        "colab_type": "code",
        "colab": {}
      },
      "source": [
        "# Creating a new DataFrame for cumulative sum of confirmed cases in India.\n",
        "\n",
        "date1 = '2020-01-31'\n",
        "date2 = '2020-05-12'\n",
        "mydates = pd.date_range(date1, date2).tolist()\n",
        "len(mydates)"
      ],
      "execution_count": 0,
      "outputs": []
    },
    {
      "cell_type": "code",
      "metadata": {
        "trusted": true,
        "id": "KTkCi8ftPvVa",
        "colab_type": "code",
        "colab": {}
      },
      "source": [
        "columns=['date','Patients','Total Confirmed']\n",
        "final = pd.DataFrame(columns=columns)"
      ],
      "execution_count": 0,
      "outputs": []
    },
    {
      "cell_type": "code",
      "metadata": {
        "trusted": true,
        "id": "C5XMk6cmPvVd",
        "colab_type": "code",
        "colab": {}
      },
      "source": [
        "final['date']=mydates"
      ],
      "execution_count": 0,
      "outputs": []
    },
    {
      "cell_type": "code",
      "metadata": {
        "trusted": true,
        "id": "D6EkMbt3PvVf",
        "colab_type": "code",
        "colab": {}
      },
      "source": [
        "final.index=final['date']\n",
        "final.drop(['date'],axis=1,inplace=True)"
      ],
      "execution_count": 0,
      "outputs": []
    },
    {
      "cell_type": "code",
      "metadata": {
        "trusted": true,
        "id": "2p9FX48DPvVk",
        "colab_type": "code",
        "colab": {}
      },
      "source": [
        "final['Patients']=df['Daily Confirmed']\n",
        "final['Total Confirmed']=df['Total Confirmed']"
      ],
      "execution_count": 0,
      "outputs": []
    },
    {
      "cell_type": "code",
      "metadata": {
        "trusted": true,
        "id": "ZXRnuhT_PvVp",
        "colab_type": "code",
        "colab": {}
      },
      "source": [
        "final.tail(7)"
      ],
      "execution_count": 0,
      "outputs": []
    },
    {
      "cell_type": "code",
      "metadata": {
        "trusted": true,
        "id": "9tG2fYosPvVr",
        "colab_type": "code",
        "colab": {}
      },
      "source": [
        "final=final.reset_index()"
      ],
      "execution_count": 0,
      "outputs": []
    },
    {
      "cell_type": "code",
      "metadata": {
        "trusted": true,
        "id": "TDktWBAbPvVw",
        "colab_type": "code",
        "colab": {}
      },
      "source": [
        "for i in range(6):\n",
        "    final.loc[97+i:,'Patients']=fcast[i]"
      ],
      "execution_count": 0,
      "outputs": []
    },
    {
      "cell_type": "code",
      "metadata": {
        "trusted": true,
        "id": "KW0JDHgPPvVz",
        "colab_type": "code",
        "colab": {}
      },
      "source": [
        "final.info()"
      ],
      "execution_count": 0,
      "outputs": []
    },
    {
      "cell_type": "code",
      "metadata": {
        "trusted": true,
        "id": "LoPCB79pPvV1",
        "colab_type": "code",
        "colab": {}
      },
      "source": [
        "final=final.round()"
      ],
      "execution_count": 0,
      "outputs": []
    },
    {
      "cell_type": "code",
      "metadata": {
        "trusted": true,
        "id": "GvlOz4xqPvV5",
        "colab_type": "code",
        "colab": {}
      },
      "source": [
        "final.info()"
      ],
      "execution_count": 0,
      "outputs": []
    },
    {
      "cell_type": "code",
      "metadata": {
        "trusted": true,
        "id": "BtKx-ui-PvV7",
        "colab_type": "code",
        "colab": {}
      },
      "source": [
        "final.tail(10)"
      ],
      "execution_count": 0,
      "outputs": []
    },
    {
      "cell_type": "code",
      "metadata": {
        "trusted": true,
        "id": "hfY6uYICPvV_",
        "colab_type": "code",
        "colab": {}
      },
      "source": [
        "for i in range(6):\n",
        "    final.loc[97+i,'Total Confirmed']=final.loc[97+i-1,'Total Confirmed']+final.loc[97+i,'Patients']"
      ],
      "execution_count": 0,
      "outputs": []
    },
    {
      "cell_type": "code",
      "metadata": {
        "trusted": true,
        "id": "oMwOOhLDPvWB",
        "colab_type": "code",
        "colab": {}
      },
      "source": [
        "final.tail()"
      ],
      "execution_count": 0,
      "outputs": []
    },
    {
      "cell_type": "markdown",
      "metadata": {
        "id": "LWf9CS1BPvWE",
        "colab_type": "text"
      },
      "source": [
        "# Section 2- Taking no of tests into account."
      ]
    },
    {
      "cell_type": "code",
      "metadata": {
        "trusted": true,
        "id": "PO62sowIPvWF",
        "colab_type": "code",
        "colab": {}
      },
      "source": [
        "testing.head()"
      ],
      "execution_count": 0,
      "outputs": []
    },
    {
      "cell_type": "code",
      "metadata": {
        "trusted": true,
        "id": "pKhtQrW4PvWI",
        "colab_type": "code",
        "colab": {}
      },
      "source": [
        "testing['Update Time Stamp']=testing['Update Time Stamp'].str.replace('/','-')\n",
        "testing['Update Time Stamp']=testing['Update Time Stamp'].str.replace(' ','')\n",
        "testing.head()"
      ],
      "execution_count": 0,
      "outputs": []
    },
    {
      "cell_type": "code",
      "metadata": {
        "trusted": true,
        "id": "lRPRhhLYPvWL",
        "colab_type": "code",
        "colab": {}
      },
      "source": [
        "testing1=testing[['Update Time Stamp','Total Tested']]\n",
        "testing1=testing1.rename(columns={'Update Time Stamp':'Date'})\n",
        "testing1['Date']=pd.to_datetime(testing1['Date'],format='%d-%m-%Y')\n",
        "testing1.info()"
      ],
      "execution_count": 0,
      "outputs": []
    },
    {
      "cell_type": "code",
      "metadata": {
        "trusted": true,
        "id": "xjanq-bcPvWO",
        "colab_type": "code",
        "colab": {}
      },
      "source": [
        "testing1=testing1[1:]"
      ],
      "execution_count": 0,
      "outputs": []
    },
    {
      "cell_type": "code",
      "metadata": {
        "trusted": true,
        "id": "LuIKqO1OPvWS",
        "colab_type": "code",
        "colab": {}
      },
      "source": [
        "testing1=testing1.reset_index()"
      ],
      "execution_count": 0,
      "outputs": []
    },
    {
      "cell_type": "code",
      "metadata": {
        "trusted": true,
        "id": "WLVWlbGgPvWW",
        "colab_type": "code",
        "colab": {}
      },
      "source": [
        "testing1.drop(['index'],axis=1,inplace=True)"
      ],
      "execution_count": 0,
      "outputs": []
    },
    {
      "cell_type": "markdown",
      "metadata": {
        "id": "B-wXD1z2PvWZ",
        "colab_type": "text"
      },
      "source": [
        "## Extrapolating the no of tests five days down the line."
      ]
    },
    {
      "cell_type": "code",
      "metadata": {
        "trusted": true,
        "id": "FtlvcRbtPvWZ",
        "colab_type": "code",
        "colab": {}
      },
      "source": [
        "testing1['dayofweek']=testing1['Date'].dt.dayofweek\n",
        "testing1.head()"
      ],
      "execution_count": 0,
      "outputs": []
    },
    {
      "cell_type": "code",
      "metadata": {
        "trusted": true,
        "id": "qgviGpz1PvWg",
        "colab_type": "code",
        "colab": {}
      },
      "source": [
        "testing1.info()"
      ],
      "execution_count": 0,
      "outputs": []
    },
    {
      "cell_type": "code",
      "metadata": {
        "trusted": true,
        "id": "nR47nxVoPvWl",
        "colab_type": "code",
        "colab": {}
      },
      "source": [
        "train=testing1[:48]\n",
        "test=testing1[48:]"
      ],
      "execution_count": 0,
      "outputs": []
    },
    {
      "cell_type": "markdown",
      "metadata": {
        "id": "QmEfspKiPvWo",
        "colab_type": "text"
      },
      "source": [
        "### ETS decomposition of testing data."
      ]
    },
    {
      "cell_type": "code",
      "metadata": {
        "trusted": true,
        "id": "3Cy6OfHEPvWp",
        "colab_type": "code",
        "colab": {}
      },
      "source": [
        "testing1.index=testing1['Date']\n",
        "testing1.drop(['Date'],axis=1,inplace=True)"
      ],
      "execution_count": 0,
      "outputs": []
    },
    {
      "cell_type": "code",
      "metadata": {
        "trusted": true,
        "id": "gCIDN6w5PvWs",
        "colab_type": "code",
        "colab": {}
      },
      "source": [
        "results = seasonal_decompose(testing1['Total Tested'])"
      ],
      "execution_count": 0,
      "outputs": []
    },
    {
      "cell_type": "code",
      "metadata": {
        "trusted": true,
        "id": "8vys8J42PvWu",
        "colab_type": "code",
        "colab": {}
      },
      "source": [
        "results.seasonal.plot(figsize=(15,8));"
      ],
      "execution_count": 0,
      "outputs": []
    },
    {
      "cell_type": "code",
      "metadata": {
        "trusted": true,
        "id": "QcONhvnpPvWx",
        "colab_type": "code",
        "colab": {}
      },
      "source": [
        "results.trend.plot();"
      ],
      "execution_count": 0,
      "outputs": []
    },
    {
      "cell_type": "markdown",
      "metadata": {
        "id": "6OQKRQUjPvW0",
        "colab_type": "text"
      },
      "source": [
        "Simple Exponential Smoothing"
      ]
    },
    {
      "cell_type": "code",
      "metadata": {
        "trusted": true,
        "id": "t8Zh8IqhPvW0",
        "colab_type": "code",
        "colab": {}
      },
      "source": [
        "# Simple Exponential Smoothing\n",
        "\n",
        "from statsmodels.tsa.holtwinters import SimpleExpSmoothing\n",
        "\n",
        "span = 5\n",
        "alpha = 2/(span+1)\n",
        "\n",
        "testing1['EWMA5'] = testing1['Total Tested'].ewm(alpha=alpha,adjust=False).mean()\n",
        "testing1['SES5']=SimpleExpSmoothing(testing1['Total Tested']).fit(smoothing_level=alpha,optimized=False).fittedvalues.shift(-1)\n",
        "testing1.head()"
      ],
      "execution_count": 0,
      "outputs": []
    },
    {
      "cell_type": "code",
      "metadata": {
        "trusted": true,
        "id": "orNesVR9PvW3",
        "colab_type": "code",
        "colab": {}
      },
      "source": [
        "testing1[['Total Tested','EWMA5','SES5']].iloc[-14:].plot(figsize=(12,6)).autoscale(axis='x',tight=True);"
      ],
      "execution_count": 0,
      "outputs": []
    },
    {
      "cell_type": "markdown",
      "metadata": {
        "id": "dSntSelVPvW9",
        "colab_type": "text"
      },
      "source": [
        "Double Exponential Smoothing"
      ]
    },
    {
      "cell_type": "code",
      "metadata": {
        "trusted": true,
        "id": "BTb4KzK4PvW9",
        "colab_type": "code",
        "colab": {}
      },
      "source": [
        "# Double Exponential Smoothing\n",
        "\n",
        "testing1['DESadd5'] = ExponentialSmoothing(testing1['Total Tested'], trend='add').fit().fittedvalues.shift(-1)\n",
        "testing1.head()"
      ],
      "execution_count": 0,
      "outputs": []
    },
    {
      "cell_type": "code",
      "metadata": {
        "trusted": true,
        "id": "UaikdTOJPvW_",
        "colab_type": "code",
        "colab": {}
      },
      "source": [
        "testing1[['Total Tested','EWMA5','DESadd5']].iloc[-14:].plot(figsize=(12,6)).autoscale(axis='x',tight=True);"
      ],
      "execution_count": 0,
      "outputs": []
    },
    {
      "cell_type": "markdown",
      "metadata": {
        "id": "hs0Hb8QEPvXA",
        "colab_type": "text"
      },
      "source": [
        "Here we can see that Double Exponential Smoothing is a much better representation of the time series data than Simple Exponential Smoothing.\n",
        "Let's see if using a multiplicative trend adjustment helps."
      ]
    },
    {
      "cell_type": "code",
      "metadata": {
        "trusted": true,
        "id": "2iuh7XFRPvXB",
        "colab_type": "code",
        "colab": {}
      },
      "source": [
        "testing1['DESmul7'] = ExponentialSmoothing(testing1['Total Tested'], trend='mul').fit().fittedvalues.shift(-1)\n",
        "testing1.head()\n",
        "testing1[['Total Tested','DESmul7','DESadd5']].iloc[-14:].plot(figsize=(12,6)).autoscale(axis='x',tight=True);"
      ],
      "execution_count": 0,
      "outputs": []
    },
    {
      "cell_type": "markdown",
      "metadata": {
        "id": "pg79lswKPvXH",
        "colab_type": "text"
      },
      "source": [
        "## Triple Exponential Smoothing\n",
        "\n",
        "Triple Exponential Smoothing, the method most closely associated with Holt-Winters, adds support for both trends and seasonality in the data."
      ]
    },
    {
      "cell_type": "code",
      "metadata": {
        "trusted": true,
        "id": "Dj2UH1RVPvXI",
        "colab_type": "code",
        "colab": {}
      },
      "source": [
        "testing1['TESadd7'] = ExponentialSmoothing(testing1['Total Tested'],trend='add',seasonal='add',seasonal_periods=7).fit().fittedvalues\n",
        "testing1.head()\n",
        "testing1[['Total Tested','TESadd7']].iloc[-14:].plot(figsize=(12,6)).autoscale(axis='x',tight=True);"
      ],
      "execution_count": 0,
      "outputs": []
    },
    {
      "cell_type": "code",
      "metadata": {
        "trusted": true,
        "id": "dgeEJUMBPvXL",
        "colab_type": "code",
        "colab": {}
      },
      "source": [
        "testing1['TESmul7'] = ExponentialSmoothing(testing1['Total Tested'],trend='mul',seasonal='mul',seasonal_periods=7).fit().fittedvalues\n",
        "testing1.head()\n",
        "testing1[['Total Tested','TESadd7','TESmul7']].iloc[-14:].plot(figsize=(12,6)).autoscale(axis='x',tight=True);"
      ],
      "execution_count": 0,
      "outputs": []
    },
    {
      "cell_type": "code",
      "metadata": {
        "trusted": true,
        "id": "8WfRV0LbPvXO",
        "colab_type": "code",
        "colab": {}
      },
      "source": [
        "testing1.info()"
      ],
      "execution_count": 0,
      "outputs": []
    },
    {
      "cell_type": "code",
      "metadata": {
        "trusted": true,
        "id": "OacjmX93PvXQ",
        "colab_type": "code",
        "colab": {}
      },
      "source": [
        "train=testing1.iloc[:46]\n",
        "test=testing1.iloc[46:]"
      ],
      "execution_count": 0,
      "outputs": []
    },
    {
      "cell_type": "code",
      "metadata": {
        "trusted": true,
        "id": "-V8O_F40PvXR",
        "colab_type": "code",
        "colab": {}
      },
      "source": [
        "fitted_model = ExponentialSmoothing(train['Total Tested'],trend='add').fit()"
      ],
      "execution_count": 0,
      "outputs": []
    },
    {
      "cell_type": "code",
      "metadata": {
        "trusted": true,
        "id": "zVNTAKG6PvXT",
        "colab_type": "code",
        "colab": {}
      },
      "source": [
        "test_predictions = fitted_model.forecast(7).rename('Forecast')"
      ],
      "execution_count": 0,
      "outputs": []
    },
    {
      "cell_type": "code",
      "metadata": {
        "trusted": true,
        "id": "i2yoi7-pPvXU",
        "colab_type": "code",
        "colab": {}
      },
      "source": [
        "test['Total Tested'].plot(legend=True,label='TEST',figsize=(12,8))\n",
        "test_predictions.plot(legend=True,label='PREDICTION')"
      ],
      "execution_count": 0,
      "outputs": []
    },
    {
      "cell_type": "code",
      "metadata": {
        "trusted": true,
        "id": "Amxyq7IHPvXW",
        "colab_type": "code",
        "colab": {}
      },
      "source": [
        "# Checking the RMSE for Double exponential exponential smoothing.\n",
        "\n",
        "from statsmodels.tools.eval_measures import rmse,meanabs\n",
        "\n",
        "print(rmse(test['Total Tested'],test_predictions))"
      ],
      "execution_count": 0,
      "outputs": []
    },
    {
      "cell_type": "code",
      "metadata": {
        "trusted": true,
        "id": "g3eTNglqPvXY",
        "colab_type": "code",
        "colab": {}
      },
      "source": [
        "fitted_model = ExponentialSmoothing(train['Total Tested'],trend='mul').fit()\n",
        "test_predictions = fitted_model.forecast(7).rename('Forecast')\n",
        "test['Total Tested'].plot(legend=True,label='TEST',figsize=(12,8))\n",
        "test_predictions.plot(legend=True,label='PREDICTION');"
      ],
      "execution_count": 0,
      "outputs": []
    },
    {
      "cell_type": "code",
      "metadata": {
        "trusted": true,
        "id": "RkOHOMssPvXa",
        "colab_type": "code",
        "colab": {}
      },
      "source": [
        "print(rmse(test['Total Tested'],test_predictions))"
      ],
      "execution_count": 0,
      "outputs": []
    },
    {
      "cell_type": "code",
      "metadata": {
        "trusted": true,
        "id": "RJm1YYDbPvXb",
        "colab_type": "code",
        "colab": {}
      },
      "source": [
        "fitted_model = ExponentialSmoothing(train['Total Tested'],trend='add',seasonal='add',seasonal_periods=7).fit()\n",
        "test_predictions = fitted_model.forecast(7).rename('Forecast')\n",
        "test['Total Tested'].plot(legend=True,label='TEST',figsize=(12,8))\n",
        "test_predictions.plot(legend=True,label='PREDICTION');"
      ],
      "execution_count": 0,
      "outputs": []
    },
    {
      "cell_type": "code",
      "metadata": {
        "trusted": true,
        "id": "0iN-INY7PvXd",
        "colab_type": "code",
        "colab": {}
      },
      "source": [
        "print(rmse(test['Total Tested'],test_predictions))"
      ],
      "execution_count": 0,
      "outputs": []
    },
    {
      "cell_type": "code",
      "metadata": {
        "trusted": true,
        "id": "mCpQeLLIPvXi",
        "colab_type": "code",
        "colab": {}
      },
      "source": [
        "fitted_model = ExponentialSmoothing(train['Total Tested'],trend='mul',seasonal='mul',seasonal_periods=7).fit()\n",
        "test_predictions = fitted_model.forecast(7).rename('Forecast')\n",
        "test['Total Tested'].plot(legend=True,label='TEST',figsize=(12,8))\n",
        "test_predictions.plot(legend=True,label='PREDICTION');"
      ],
      "execution_count": 0,
      "outputs": []
    },
    {
      "cell_type": "code",
      "metadata": {
        "trusted": true,
        "id": "r9R4mShnPvXj",
        "colab_type": "code",
        "colab": {}
      },
      "source": [
        "print(rmse(test['Total Tested'],test_predictions))"
      ],
      "execution_count": 0,
      "outputs": []
    },
    {
      "cell_type": "markdown",
      "metadata": {
        "id": "I7OkkuiaPvXm",
        "colab_type": "text"
      },
      "source": [
        "RMSE is too high so going for ARIMA Model."
      ]
    },
    {
      "cell_type": "code",
      "metadata": {
        "trusted": true,
        "id": "j4xLreJCPvXm",
        "colab_type": "code",
        "colab": {}
      },
      "source": [
        "# Checking for stationarity\n",
        "adf_test(testing1['Total Tested'])"
      ],
      "execution_count": 0,
      "outputs": []
    },
    {
      "cell_type": "code",
      "metadata": {
        "trusted": true,
        "id": "YZPZ3tK-PvXq",
        "colab_type": "code",
        "colab": {}
      },
      "source": [
        "testing1['d1'] = diff(testing1['Total Tested'],k_diff=1)\n",
        "\n",
        "adf_test(testing1['d1'],'')"
      ],
      "execution_count": 0,
      "outputs": []
    },
    {
      "cell_type": "code",
      "metadata": {
        "trusted": true,
        "id": "RnIG64v4PvXs",
        "colab_type": "code",
        "colab": {}
      },
      "source": [
        "stepwise_model = auto_arima(train['Total Tested'], start_p=0, start_q=0, max_p=5, max_q=5, m=7,start_P=0, seasonal=True,\n",
        "d=1, D=1, trace=True,error_action='ignore',suppress_warnings=True,stepwise=True,exogenous=train[['dayofweek']])\n",
        "\n",
        "print(stepwise_model.aic())"
      ],
      "execution_count": 0,
      "outputs": []
    },
    {
      "cell_type": "code",
      "metadata": {
        "trusted": true,
        "id": "eZAbFVmqPvXt",
        "colab_type": "code",
        "colab": {}
      },
      "source": [
        "model = SARIMAX(train['Total Tested'],order=(1,1,1),seasonal_order=(0,1,2,7),exogenous=train[['dayofweek']],enforce_invertibility=True)\n",
        "results = model.fit()\n",
        "results.summary()"
      ],
      "execution_count": 0,
      "outputs": []
    },
    {
      "cell_type": "code",
      "metadata": {
        "trusted": true,
        "id": "deH1LTQBPvXu",
        "colab_type": "code",
        "colab": {}
      },
      "source": [
        "start=len(train)\n",
        "end=len(train)+len(test)-1\n",
        "predictions = results.predict(start=start, end=end, dynamic=False,typ='levels',exogenous=test[['dayofweek']]).rename('SARIMA(1,1,1)(0,1,2,7) Predictions')"
      ],
      "execution_count": 0,
      "outputs": []
    },
    {
      "cell_type": "code",
      "metadata": {
        "trusted": true,
        "id": "aHYyczxFPvXv",
        "colab_type": "code",
        "colab": {}
      },
      "source": [
        "title='Covid-19 India Daily Testing'\n",
        "ylabel='Tests'\n",
        "\n",
        "ax = test['Total Tested'].plot(legend=True,figsize=(12,6),title=title)\n",
        "predictions.plot(legend=True);\n",
        "ax.autoscale(axis='x',tight=True);\n",
        "ax.set(ylabel=ylabel);"
      ],
      "execution_count": 0,
      "outputs": []
    },
    {
      "cell_type": "code",
      "metadata": {
        "trusted": true,
        "id": "O8nXE4w5PvXw",
        "colab_type": "code",
        "colab": {}
      },
      "source": [
        "error = rmse(test['Total Tested'], predictions)\n",
        "print(f'SARIMAX(1,1,1)(0,1,2,7) RMSE Error: {error:11.10}')"
      ],
      "execution_count": 0,
      "outputs": []
    },
    {
      "cell_type": "markdown",
      "metadata": {
        "id": "IAEIS-4cPvXx",
        "colab_type": "text"
      },
      "source": [
        "As ARIMA model has least RMSE so moving ahead with this model."
      ]
    },
    {
      "cell_type": "code",
      "metadata": {
        "trusted": true,
        "id": "YlG1OQA_PvXy",
        "colab_type": "code",
        "colab": {}
      },
      "source": [
        "testing1.info()"
      ],
      "execution_count": 0,
      "outputs": []
    },
    {
      "cell_type": "code",
      "metadata": {
        "trusted": true,
        "id": "dmvPV432PvX0",
        "colab_type": "code",
        "colab": {}
      },
      "source": [
        "model = SARIMAX(testing1['Total Tested'],order=(1,1,1),seasonal_order=(0,1,2,7),enforce_invertibility=True,exogenous=testing1[['dayofweek']])\n",
        "results = model.fit()\n",
        "fcast = results.predict(len(testing1),len(testing1)+7).rename('SARIMAX(1,1,1)(0,1,2,7) Forecast')"
      ],
      "execution_count": 0,
      "outputs": []
    },
    {
      "cell_type": "code",
      "metadata": {
        "trusted": true,
        "id": "H4A1v-LgPvX1",
        "colab_type": "code",
        "colab": {}
      },
      "source": [
        "title='Number of testing for covid-19 in India'\n",
        "ylabel='Tests'\n",
        "ax = testing1['Total Tested'].plot(legend=True,figsize=(12,6),title=title)\n",
        "fcast.plot(legend=True);\n",
        "ax.autoscale(axis='x',tight=True);\n",
        "ax.set(ylabel=ylabel);"
      ],
      "execution_count": 0,
      "outputs": []
    },
    {
      "cell_type": "code",
      "metadata": {
        "trusted": true,
        "id": "CBH-48QEPvX3",
        "colab_type": "code",
        "colab": {}
      },
      "source": [
        "date1 = '2020-03-18'\n",
        "date2 = '2020-05-17'\n",
        "mydates = pd.date_range(date1, date2).tolist()\n",
        "len(mydates)"
      ],
      "execution_count": 0,
      "outputs": []
    },
    {
      "cell_type": "code",
      "metadata": {
        "trusted": true,
        "id": "k83ugkA6PvX5",
        "colab_type": "code",
        "colab": {}
      },
      "source": [
        "columns=['Date','Tests','dayofweek']\n",
        "tests = pd.DataFrame(columns=columns)"
      ],
      "execution_count": 0,
      "outputs": []
    },
    {
      "cell_type": "code",
      "metadata": {
        "trusted": true,
        "id": "dPlVFvjtPvX7",
        "colab_type": "code",
        "colab": {}
      },
      "source": [
        "tests['Date']=mydates"
      ],
      "execution_count": 0,
      "outputs": []
    },
    {
      "cell_type": "code",
      "metadata": {
        "trusted": true,
        "id": "lwooy-4WPvX9",
        "colab_type": "code",
        "colab": {}
      },
      "source": [
        "tests.info()"
      ],
      "execution_count": 0,
      "outputs": []
    },
    {
      "cell_type": "code",
      "metadata": {
        "trusted": true,
        "id": "nPIjsC4wPvX_",
        "colab_type": "code",
        "colab": {}
      },
      "source": [
        "tests.index=tests['Date']\n",
        "tests.drop(['Date'],axis=1,inplace=True)\n",
        "tests['Tests']=testing1['Total Tested']"
      ],
      "execution_count": 0,
      "outputs": []
    },
    {
      "cell_type": "code",
      "metadata": {
        "trusted": true,
        "id": "nKkVivlGPvYA",
        "colab_type": "code",
        "colab": {}
      },
      "source": [
        "tests['dayofweek']=tests.index.dayofweek"
      ],
      "execution_count": 0,
      "outputs": []
    },
    {
      "cell_type": "code",
      "metadata": {
        "trusted": true,
        "id": "pKvkQ8jWPvYD",
        "colab_type": "code",
        "colab": {}
      },
      "source": [
        "tests.info()"
      ],
      "execution_count": 0,
      "outputs": []
    },
    {
      "cell_type": "code",
      "metadata": {
        "trusted": true,
        "id": "MHXpstiqPvYE",
        "colab_type": "code",
        "colab": {}
      },
      "source": [
        "tests=tests.reset_index()\n",
        "tests.loc[53:,'Tests']=fcast"
      ],
      "execution_count": 0,
      "outputs": []
    },
    {
      "cell_type": "code",
      "metadata": {
        "trusted": true,
        "id": "QwIHIX8pPvYF",
        "colab_type": "code",
        "colab": {}
      },
      "source": [
        "tests.index=tests['Date']\n",
        "tests.drop(['Date'],axis=1,inplace=True)"
      ],
      "execution_count": 0,
      "outputs": []
    },
    {
      "cell_type": "code",
      "metadata": {
        "trusted": true,
        "id": "DV6LrieRPvYG",
        "colab_type": "code",
        "colab": {}
      },
      "source": [
        "tests.loc[53:,'Tests']=fcast"
      ],
      "execution_count": 0,
      "outputs": []
    },
    {
      "cell_type": "code",
      "metadata": {
        "trusted": true,
        "id": "RlIr2lWVPvYJ",
        "colab_type": "code",
        "colab": {}
      },
      "source": [
        "tests=tests.round()"
      ],
      "execution_count": 0,
      "outputs": []
    },
    {
      "cell_type": "code",
      "metadata": {
        "trusted": true,
        "id": "1PpHttloPvYK",
        "colab_type": "code",
        "colab": {}
      },
      "source": [
        "tests.tail()"
      ],
      "execution_count": 0,
      "outputs": []
    },
    {
      "cell_type": "markdown",
      "metadata": {
        "id": "QmxM6t9jPvYL",
        "colab_type": "text"
      },
      "source": [
        "### Now as we have our estimated tests a week ahead let's predict the total confirmed cases a week ahead taking the number of tests into account."
      ]
    },
    {
      "cell_type": "markdown",
      "metadata": {
        "id": "HdZLubAVPvYL",
        "colab_type": "text"
      },
      "source": [
        "Merging the tests dataframe and df dataframe for getting no of tests done."
      ]
    },
    {
      "cell_type": "code",
      "metadata": {
        "trusted": true,
        "id": "4fG2tsb4PvYL",
        "colab_type": "code",
        "colab": {}
      },
      "source": [
        "df1=df['2020-03-18':]\n",
        "df1=df1.reset_index()\n",
        "df1.head()"
      ],
      "execution_count": 0,
      "outputs": []
    },
    {
      "cell_type": "code",
      "metadata": {
        "trusted": true,
        "id": "EpYGdf-jPvYM",
        "colab_type": "code",
        "colab": {}
      },
      "source": [
        "covidtest=tests[:'2020-05-06']\n",
        "exog_test=tests['2020-05-07':'2020-05-12']\n",
        "covidtest=covidtest.reset_index()\n",
        "exog_test=exog_test.reset_index()"
      ],
      "execution_count": 0,
      "outputs": []
    },
    {
      "cell_type": "code",
      "metadata": {
        "trusted": true,
        "id": "mXBrfus3PvYN",
        "colab_type": "code",
        "colab": {}
      },
      "source": [
        "covidtest.tail()"
      ],
      "execution_count": 0,
      "outputs": []
    },
    {
      "cell_type": "code",
      "metadata": {
        "trusted": true,
        "id": "F63lP5cOPvYO",
        "colab_type": "code",
        "colab": {}
      },
      "source": [
        "df_clean=pd.merge(df1,covidtest,on='Date',how='inner')\n",
        "df_clean.head()"
      ],
      "execution_count": 0,
      "outputs": []
    },
    {
      "cell_type": "code",
      "metadata": {
        "trusted": true,
        "id": "5tA7kgQQPvYP",
        "colab_type": "code",
        "colab": {}
      },
      "source": [
        "df_clean.info()"
      ],
      "execution_count": 0,
      "outputs": []
    },
    {
      "cell_type": "code",
      "metadata": {
        "trusted": true,
        "id": "4B2biQxfPvYQ",
        "colab_type": "code",
        "colab": {}
      },
      "source": [
        "train=df_clean[:45]\n",
        "test=df_clean[45:]"
      ],
      "execution_count": 0,
      "outputs": []
    },
    {
      "cell_type": "code",
      "metadata": {
        "trusted": true,
        "id": "IB7GgNdVPvYR",
        "colab_type": "code",
        "colab": {}
      },
      "source": [
        "adf_test(df_clean['Daily Confirmed'])"
      ],
      "execution_count": 0,
      "outputs": []
    },
    {
      "cell_type": "code",
      "metadata": {
        "trusted": true,
        "id": "nE_LlHp5PvYS",
        "colab_type": "code",
        "colab": {}
      },
      "source": [
        "df_clean['d1'] = diff(df_clean['Daily Confirmed'],k_diff=1)\n",
        "\n",
        "\n",
        "adf_test(df_clean['d1'],'')"
      ],
      "execution_count": 0,
      "outputs": []
    },
    {
      "cell_type": "code",
      "metadata": {
        "trusted": true,
        "id": "gtpDzT_qPvYV",
        "colab_type": "code",
        "colab": {}
      },
      "source": [
        "# Auto Arima Model\n",
        "\n",
        "stepwise_model = auto_arima(train['Daily Confirmed'], start_p=0, start_q=0, max_p=5, max_q=5, m=5,start_P=0, seasonal=True,\n",
        "d=1, D=1, trace=True,error_action='ignore',suppress_warnings=True,stepwise=True,exogenous=train[['Tests','dayofweek','Daily Recovered'\n",
        "                                                                                                 ,'Daily Deceased']])\n",
        "\n",
        "print(stepwise_model.aic())"
      ],
      "execution_count": 0,
      "outputs": []
    },
    {
      "cell_type": "code",
      "metadata": {
        "trusted": true,
        "id": "EtleE7-lPvYW",
        "colab_type": "code",
        "colab": {}
      },
      "source": [
        "model = SARIMAX(train['Daily Confirmed'],order=(2,1,0),seasonal_order=(0,1,1,5),enforce_invertibility=True,\n",
        "                exogenous=train[['Daily Recovered','Daily Deceased','Tests','dayofweek']])\n",
        "results = model.fit()\n",
        "results.summary()"
      ],
      "execution_count": 0,
      "outputs": []
    },
    {
      "cell_type": "code",
      "metadata": {
        "trusted": true,
        "id": "TZQ3xHmGPvYZ",
        "colab_type": "code",
        "colab": {}
      },
      "source": [
        "start=len(train)\n",
        "end=len(train)+len(test)-1\n",
        "predictions = results.predict(start=start, end=end, dynamic=False,typ='levels',\n",
        "                              exogenous=test[['Daily Recovered','Daily Deceased','Tests','dayofweek']]).rename('SARIMA(2,1,0)(0,1,1,5) Predictions')"
      ],
      "execution_count": 0,
      "outputs": []
    },
    {
      "cell_type": "code",
      "metadata": {
        "trusted": true,
        "id": "fJJrJW4ZPvYb",
        "colab_type": "code",
        "colab": {}
      },
      "source": [
        "title='Covid-19 India Daily Confirmed Cases'\n",
        "ylabel='Persons'\n",
        "\n",
        "ax = test['Daily Confirmed'].plot(legend=True,figsize=(12,6),title=title)\n",
        "predictions.plot(legend=True);\n",
        "ax.autoscale(axis='x',tight=True);\n",
        "ax.set(ylabel=ylabel);"
      ],
      "execution_count": 0,
      "outputs": []
    },
    {
      "cell_type": "code",
      "metadata": {
        "trusted": true,
        "id": "eSnC_p3rPvYh",
        "colab_type": "code",
        "colab": {}
      },
      "source": [
        "from statsmodels.tools.eval_measures import rmse,meanabs\n",
        "\n",
        "error = rmse(test['Daily Confirmed'], predictions)\n",
        "print(f'SARIMAX(2,1,0)(0,1,1,5) RMSE Error: {error:11.10}')"
      ],
      "execution_count": 0,
      "outputs": []
    },
    {
      "cell_type": "code",
      "metadata": {
        "trusted": true,
        "id": "TAVuLgySPvYk",
        "colab_type": "code",
        "colab": {}
      },
      "source": [
        "model = SARIMAX(df_clean['Daily Confirmed'],order=(2,1,0),seasonal_order=(0,1,1,5),enforce_invertibility=True,\n",
        "                exogenous=df_clean[['Daily Recovered','Daily Deceased','Tests','dayofweek']])\n",
        "results = model.fit()\n",
        "results.summary()"
      ],
      "execution_count": 0,
      "outputs": []
    },
    {
      "cell_type": "code",
      "metadata": {
        "trusted": true,
        "id": "6evjyS4_PvYl",
        "colab_type": "code",
        "colab": {}
      },
      "source": [
        "start=len(df_clean)\n",
        "end=len(df_clean)+5\n",
        "predictions = results.predict(start=start, end=end, dynamic=False,typ='levels',exogenous=exog_test[['Tests','dayofweek']]).rename('SARIMA(2,1,0)(0,1,1,5) Predictions')"
      ],
      "execution_count": 0,
      "outputs": []
    },
    {
      "cell_type": "code",
      "metadata": {
        "trusted": true,
        "id": "QJxDWWWmPvYn",
        "colab_type": "code",
        "colab": {}
      },
      "source": [
        "title='Covid-19 India Daily Confirmed Cases'\n",
        "ylabel='Persons'\n",
        "\n",
        "ax = df_clean['Daily Confirmed'].plot(legend=True,figsize=(12,6),title=title)\n",
        "predictions.plot(legend=True);\n",
        "ax.autoscale(axis='x',tight=True);\n",
        "ax.set(ylabel=ylabel);"
      ],
      "execution_count": 0,
      "outputs": []
    },
    {
      "cell_type": "code",
      "metadata": {
        "trusted": true,
        "id": "2meLoDkKPvYr",
        "colab_type": "code",
        "colab": {}
      },
      "source": [
        "predictions"
      ],
      "execution_count": 0,
      "outputs": []
    },
    {
      "cell_type": "code",
      "metadata": {
        "trusted": true,
        "id": "wMfWii0fPvYt",
        "colab_type": "code",
        "colab": {}
      },
      "source": [
        "# Creating a new DataFrame for cumulative sum of confirmed cases in India.\n",
        "\n",
        "date1 = '2020-03-18'\n",
        "date2 = '2020-05-11'\n",
        "mydates = pd.date_range(date1, date2).tolist()\n",
        "len(mydates)"
      ],
      "execution_count": 0,
      "outputs": []
    },
    {
      "cell_type": "code",
      "metadata": {
        "trusted": true,
        "id": "PvuoT5ZEPvYx",
        "colab_type": "code",
        "colab": {}
      },
      "source": [
        "columns=['date','Patients','Total Confirmed','Tests']\n",
        "final = pd.DataFrame(columns=columns)"
      ],
      "execution_count": 0,
      "outputs": []
    },
    {
      "cell_type": "code",
      "metadata": {
        "trusted": true,
        "id": "T5Z30IXSPvYy",
        "colab_type": "code",
        "colab": {}
      },
      "source": [
        "final['date']=mydates\n",
        "final['Patients']=df_clean['Daily Confirmed']\n",
        "final['Total Confirmed']=df_clean['Total Confirmed']"
      ],
      "execution_count": 0,
      "outputs": []
    },
    {
      "cell_type": "code",
      "metadata": {
        "trusted": true,
        "id": "EzodGLwvPvYz",
        "colab_type": "code",
        "colab": {}
      },
      "source": [
        "final['Tests']=df_clean['Tests']"
      ],
      "execution_count": 0,
      "outputs": []
    },
    {
      "cell_type": "code",
      "metadata": {
        "trusted": true,
        "id": "7ADRpCD7PvY1",
        "colab_type": "code",
        "colab": {}
      },
      "source": [
        "final.info()"
      ],
      "execution_count": 0,
      "outputs": []
    },
    {
      "cell_type": "code",
      "metadata": {
        "trusted": true,
        "id": "VT_zFW8ZPvY2",
        "colab_type": "code",
        "colab": {}
      },
      "source": [
        "final.loc[50:,'Patients']=predictions"
      ],
      "execution_count": 0,
      "outputs": []
    },
    {
      "cell_type": "code",
      "metadata": {
        "trusted": true,
        "id": "Mewoj_ZDPvY3",
        "colab_type": "code",
        "colab": {}
      },
      "source": [
        "for i in range(5):\n",
        "    final.loc[50+i,'Tests']=exog_test.loc[i,'Tests']"
      ],
      "execution_count": 0,
      "outputs": []
    },
    {
      "cell_type": "code",
      "metadata": {
        "trusted": true,
        "id": "i5dyA8IEPvY4",
        "colab_type": "code",
        "colab": {}
      },
      "source": [
        "final.info()"
      ],
      "execution_count": 0,
      "outputs": []
    },
    {
      "cell_type": "code",
      "metadata": {
        "trusted": true,
        "id": "-f_tr0THPvY5",
        "colab_type": "code",
        "colab": {}
      },
      "source": [
        "final=final.round()"
      ],
      "execution_count": 0,
      "outputs": []
    },
    {
      "cell_type": "code",
      "metadata": {
        "trusted": true,
        "id": "aVb3u34cPvY6",
        "colab_type": "code",
        "colab": {}
      },
      "source": [
        "final.info()"
      ],
      "execution_count": 0,
      "outputs": []
    },
    {
      "cell_type": "code",
      "metadata": {
        "trusted": true,
        "id": "cpEwYyhlPvY9",
        "colab_type": "code",
        "colab": {}
      },
      "source": [
        "for i in range(5):\n",
        "    final.loc[50+i,'Total Confirmed']=final.loc[50+i-1,'Total Confirmed']+final.loc[50+i,'Patients']"
      ],
      "execution_count": 0,
      "outputs": []
    },
    {
      "cell_type": "code",
      "metadata": {
        "trusted": true,
        "id": "9G5Cpb3DPvY-",
        "colab_type": "code",
        "colab": {}
      },
      "source": [
        "final.index=final['date']\n",
        "final.drop(['date'],axis=1,inplace=True)"
      ],
      "execution_count": 0,
      "outputs": []
    },
    {
      "cell_type": "code",
      "metadata": {
        "trusted": true,
        "id": "3RoLNa93PvZA",
        "colab_type": "code",
        "colab": {}
      },
      "source": [
        "final.tail()"
      ],
      "execution_count": 0,
      "outputs": []
    },
    {
      "cell_type": "code",
      "metadata": {
        "trusted": true,
        "id": "0zXh8QBmPvZB",
        "colab_type": "code",
        "colab": {}
      },
      "source": [
        "final.to_csv('output.csv')"
      ],
      "execution_count": 0,
      "outputs": []
    },
    {
      "cell_type": "markdown",
      "metadata": {
        "id": "8qHdJ0GzPvZC",
        "colab_type": "text"
      },
      "source": [
        "## Predictions using Regression Models taking testing into account."
      ]
    },
    {
      "cell_type": "code",
      "metadata": {
        "trusted": true,
        "id": "a5YaeyIHPvZC",
        "colab_type": "code",
        "colab": {}
      },
      "source": [
        "df_clean.info()"
      ],
      "execution_count": 0,
      "outputs": []
    },
    {
      "cell_type": "code",
      "metadata": {
        "trusted": true,
        "id": "bYE-kw6TPvZD",
        "colab_type": "code",
        "colab": {}
      },
      "source": [
        "train=df_clean[:45]\n",
        "test=df_clean[45:]"
      ],
      "execution_count": 0,
      "outputs": []
    },
    {
      "cell_type": "code",
      "metadata": {
        "trusted": true,
        "id": "shmU7xmLPvZE",
        "colab_type": "code",
        "colab": {}
      },
      "source": [
        "train['day'] = train['Date'].dt.day\n",
        "train['month'] = train['Date'].dt.month\n",
        "train['dayofyear'] = train['Date'].dt.dayofyear\n",
        "train['quarter'] = train['Date'].dt.quarter\n",
        "train['weekofyear'] = train['Date'].dt.weekofyear"
      ],
      "execution_count": 0,
      "outputs": []
    },
    {
      "cell_type": "code",
      "metadata": {
        "trusted": true,
        "id": "-3keaz2YPvZF",
        "colab_type": "code",
        "colab": {}
      },
      "source": [
        "train.columns"
      ],
      "execution_count": 0,
      "outputs": []
    },
    {
      "cell_type": "code",
      "metadata": {
        "trusted": true,
        "id": "f6XFm5KXPvZG",
        "colab_type": "code",
        "colab": {}
      },
      "source": [
        "columns=['Daily Recovered','Daily Deceased', 'Tests','day', 'month', 'dayofweek',\n",
        "         'dayofyear', 'quarter', 'weekofyear']\n",
        "y=train['Daily Confirmed']"
      ],
      "execution_count": 0,
      "outputs": []
    },
    {
      "cell_type": "code",
      "metadata": {
        "trusted": true,
        "id": "UQpZRmzTPvZJ",
        "colab_type": "code",
        "colab": {}
      },
      "source": [
        "from sklearn.model_selection import train_test_split"
      ],
      "execution_count": 0,
      "outputs": []
    },
    {
      "cell_type": "code",
      "metadata": {
        "trusted": true,
        "id": "K8Fju3I8PvZK",
        "colab_type": "code",
        "colab": {}
      },
      "source": [
        "train=train[columns]\n",
        "x_train,x_test,y_train,y_test=train_test_split(train,y,test_size=0.2,random_state=0)"
      ],
      "execution_count": 0,
      "outputs": []
    },
    {
      "cell_type": "code",
      "metadata": {
        "trusted": true,
        "id": "PxpaMj-cPvZN",
        "colab_type": "code",
        "colab": {}
      },
      "source": [
        "models = []\n",
        "mse = []\n",
        "mae = []\n",
        "rmse = []"
      ],
      "execution_count": 0,
      "outputs": []
    },
    {
      "cell_type": "markdown",
      "metadata": {
        "id": "F7h0MlgrPvZP",
        "colab_type": "text"
      },
      "source": [
        "## Random Forest Regressor"
      ]
    },
    {
      "cell_type": "code",
      "metadata": {
        "trusted": true,
        "id": "l4a47xSdPvZP",
        "colab_type": "code",
        "colab": {}
      },
      "source": [
        "from sklearn.ensemble import RandomForestRegressor\n",
        "reg=RandomForestRegressor(n_estimators=500,random_state=1)\n",
        "reg.fit(x_train,y_train)"
      ],
      "execution_count": 0,
      "outputs": []
    },
    {
      "cell_type": "code",
      "metadata": {
        "trusted": true,
        "id": "U6K56JHTPvZQ",
        "colab_type": "code",
        "colab": {}
      },
      "source": [
        "pred_RF=reg.predict(x_test)"
      ],
      "execution_count": 0,
      "outputs": []
    },
    {
      "cell_type": "code",
      "metadata": {
        "trusted": true,
        "id": "CpdT5Fx0PvZR",
        "colab_type": "code",
        "colab": {}
      },
      "source": [
        "# Importing the error metric\n",
        "from sklearn.metrics import mean_squared_error,mean_absolute_error"
      ],
      "execution_count": 0,
      "outputs": []
    },
    {
      "cell_type": "code",
      "metadata": {
        "trusted": true,
        "id": "kYqtdInCPvZS",
        "colab_type": "code",
        "colab": {}
      },
      "source": [
        "models.append('Random Forest')\n",
        "mse.append(round(mean_squared_error(pred_RF, y_test),2))\n",
        "mae.append(round(mean_absolute_error(pred_RF, y_test),2))\n",
        "rmse.append(round(np.sqrt(mean_squared_error(pred_RF, y_test)),2))"
      ],
      "execution_count": 0,
      "outputs": []
    },
    {
      "cell_type": "markdown",
      "metadata": {
        "id": "dzmrP1AMPvZT",
        "colab_type": "text"
      },
      "source": [
        "## XGB Regressor"
      ]
    },
    {
      "cell_type": "code",
      "metadata": {
        "trusted": true,
        "id": "MpLaz6YEPvZT",
        "colab_type": "code",
        "colab": {}
      },
      "source": [
        "from sklearn.ensemble import GradientBoostingRegressor"
      ],
      "execution_count": 0,
      "outputs": []
    },
    {
      "cell_type": "code",
      "metadata": {
        "trusted": true,
        "id": "CWygkO95PvZU",
        "colab_type": "code",
        "colab": {}
      },
      "source": [
        "# Training the algorithm\n",
        "fit_GB = GradientBoostingRegressor(n_estimators=200)\n",
        "fit_GB.fit(x_train, y_train)"
      ],
      "execution_count": 0,
      "outputs": []
    },
    {
      "cell_type": "code",
      "metadata": {
        "trusted": true,
        "id": "jRoWzhmWPvZW",
        "colab_type": "code",
        "colab": {}
      },
      "source": [
        "pred_XGB=fit_GB.predict(x_test)"
      ],
      "execution_count": 0,
      "outputs": []
    },
    {
      "cell_type": "code",
      "metadata": {
        "trusted": true,
        "id": "W6G4oxctPvZW",
        "colab_type": "code",
        "colab": {}
      },
      "source": [
        "models.append('XGBoost')\n",
        "mse.append(round(mean_squared_error(pred_XGB, y_test),2))\n",
        "mae.append(round(mean_absolute_error(pred_XGB, y_test),2))\n",
        "rmse.append(round(np.sqrt(mean_squared_error(pred_XGB, y_test)),2))"
      ],
      "execution_count": 0,
      "outputs": []
    },
    {
      "cell_type": "markdown",
      "metadata": {
        "id": "xNRDMDPzPvZX",
        "colab_type": "text"
      },
      "source": [
        "## LGBM Regressor"
      ]
    },
    {
      "cell_type": "code",
      "metadata": {
        "trusted": true,
        "id": "pSM7QQBaPvZY",
        "colab_type": "code",
        "colab": {}
      },
      "source": [
        "from lightgbm import LGBMRegressor"
      ],
      "execution_count": 0,
      "outputs": []
    },
    {
      "cell_type": "code",
      "metadata": {
        "trusted": true,
        "id": "8rhkKAzEPvZZ",
        "colab_type": "code",
        "colab": {}
      },
      "source": [
        "lgbm = LGBMRegressor(n_estimators=1300)\n",
        "lgbm.fit(x_train,y_train)\n",
        "pred_LGBM = lgbm.predict(x_test)"
      ],
      "execution_count": 0,
      "outputs": []
    },
    {
      "cell_type": "code",
      "metadata": {
        "trusted": true,
        "id": "loIU0e_JPvZa",
        "colab_type": "code",
        "colab": {}
      },
      "source": [
        "models.append('LGBM')\n",
        "mse.append(round(mean_squared_error(pred_LGBM, y_test),2))\n",
        "mae.append(round(mean_absolute_error(pred_LGBM, y_test),2))\n",
        "rmse.append(round(np.sqrt(mean_squared_error(pred_LGBM, y_test)),2))"
      ],
      "execution_count": 0,
      "outputs": []
    },
    {
      "cell_type": "code",
      "metadata": {
        "trusted": true,
        "id": "92QnHASzPvZb",
        "colab_type": "code",
        "colab": {}
      },
      "source": [
        "import seaborn as sb"
      ],
      "execution_count": 0,
      "outputs": []
    },
    {
      "cell_type": "code",
      "metadata": {
        "trusted": true,
        "id": "puGxm6xjPvZb",
        "colab_type": "code",
        "colab": {}
      },
      "source": [
        "plt.figure(figsize= (15,10))\n",
        "plt.xticks(rotation = 90 ,fontsize = 11)\n",
        "plt.yticks(fontsize = 10)\n",
        "plt.xlabel(\"Different Models\",fontsize = 20)\n",
        "plt.ylabel('RMSE',fontsize = 20)\n",
        "plt.title(\"RMSE Values of different models\" , fontsize = 20)\n",
        "sb.barplot(x=models,y=rmse);"
      ],
      "execution_count": 0,
      "outputs": []
    },
    {
      "cell_type": "markdown",
      "metadata": {
        "id": "RPzF-2DaPvZc",
        "colab_type": "text"
      },
      "source": [
        "# Section 3- Analysis of Death and Recovery rate.\n",
        "\n",
        "## Let's have a look over the Average Growth rate of covid cases in India\n",
        " \n",
        " -Before first lockdown (upto 24 March 2020)\n",
        " \n",
        " -During first lockdown (from 25th March 2020 to 14th April 2020)\n",
        " \n",
        " -During second lockdown (from 15th April 2020 to 3rd May 2020)\n",
        " \n",
        " -In third lockdown (from 4th May 2020 onwards)\n",
        " \n",
        " "
      ]
    },
    {
      "cell_type": "code",
      "metadata": {
        "trusted": true,
        "id": "rp46muJjPvZc",
        "colab_type": "code",
        "colab": {}
      },
      "source": [
        "before_lockdown_growth = []\n",
        "first_lockdown_growth = []\n",
        "second_lockdown_growth = []\n",
        "third_lockdown_growth = []\n",
        "\n",
        "# As there the continuous reporting of cases have started from 2/3/2020 so truncating the dataframe accordingly.\n",
        "\n",
        "Before_lockdown=df['2020-03-02':'2020-03-25']\n",
        "Before_lockdown=Before_lockdown.reset_index()\n",
        "\n",
        "# Calculating average growth rate before lockdown period\n",
        "\n",
        "for i in range(1,len(Before_lockdown)):\n",
        "    before_lockdown_growth.append(Before_lockdown.loc[i,'Daily Confirmed'] / Before_lockdown.loc[i-1,'Daily Confirmed'])\n",
        "\n",
        "\n",
        "first_lockdown=df['2020-03-25':'2020-04-15']\n",
        "first_lockdown=first_lockdown.reset_index()\n",
        "\n",
        "# Calculating average growth rate in first lockdown\n",
        "\n",
        "for i in range(1,len(first_lockdown)):\n",
        "    first_lockdown_growth.append(first_lockdown.loc[i,'Daily Confirmed'] / first_lockdown.loc[i-1,'Daily Confirmed'])\n",
        "    \n",
        "\n",
        "second_lockdown=df['2020-04-15':'2020-05-04']\n",
        "second_lockdown=second_lockdown.reset_index()\n",
        "\n",
        "# Calculating average growth rate in second lockdown\n",
        "\n",
        "for i in range(1,len(second_lockdown)):\n",
        "    second_lockdown_growth.append(second_lockdown.loc[i,'Daily Confirmed'] / second_lockdown.loc[i-1,'Daily Confirmed'])\n",
        "\n",
        "\n",
        "third_lockdown=df['2020-05-04':]\n",
        "third_lockdown=third_lockdown.reset_index()\n",
        "\n",
        "# Calculating average growth rate in third lockdown\n",
        "\n",
        "for i in range(1,len(third_lockdown)):\n",
        "    third_lockdown_growth.append(third_lockdown.loc[i,'Daily Confirmed'] / third_lockdown.loc[i-1,'Daily Confirmed'])\n",
        "\n",
        "\n",
        "\n",
        "before_lockdown_growth_factor = sum(before_lockdown_growth)/len(before_lockdown_growth)\n",
        "first_lockdown_growth_factor = sum(first_lockdown_growth)/len(first_lockdown_growth)\n",
        "second_lockdown_growth_factor = sum(second_lockdown_growth)/len(second_lockdown_growth)\n",
        "third_lockdown_growth_factor = sum(third_lockdown_growth)/len(third_lockdown_growth)\n",
        "\n",
        "print('Average growth factor before lockdown implemented ',before_lockdown_growth_factor)\n",
        "print('Average growth factor in first lockdown ',first_lockdown_growth_factor)\n",
        "print('Average growth factor in second lockdown ',second_lockdown_growth_factor)\n",
        "print('Average growth factor in third lockdown ',third_lockdown_growth_factor)"
      ],
      "execution_count": 0,
      "outputs": []
    },
    {
      "cell_type": "markdown",
      "metadata": {
        "id": "ISv6uDNfPvZe",
        "colab_type": "text"
      },
      "source": [
        "# Prediction using average growth factor over the entire period \n",
        "### Assuming the same growth factor continues for the next 15 days"
      ]
    },
    {
      "cell_type": "code",
      "metadata": {
        "trusted": true,
        "id": "joJ5dfDvPvZe",
        "colab_type": "code",
        "colab": {}
      },
      "source": [
        "growth_diff = []\n",
        "\n",
        "df1=df['2020-03-02':]\n",
        "df1=df1.reset_index()\n",
        "\n",
        "for i in range(1,len(df1)):\n",
        "    growth_diff.append(df1.loc[i,'Daily Confirmed'] / df1.loc[i-1,'Daily Confirmed'])\n",
        "\n",
        "growth_factor = sum(growth_diff)/len(growth_diff)\n",
        "print('Average growth factor',growth_factor)"
      ],
      "execution_count": 0,
      "outputs": []
    },
    {
      "cell_type": "code",
      "metadata": {
        "trusted": true,
        "id": "U-HQ9MMHPvZg",
        "colab_type": "code",
        "colab": {}
      },
      "source": [
        "date1 = '2020-01-30'\n",
        "date2 = '2020-05-21'\n",
        "prediction_dates = pd.date_range(date1, date2).tolist()"
      ],
      "execution_count": 0,
      "outputs": []
    },
    {
      "cell_type": "code",
      "metadata": {
        "trusted": true,
        "id": "u70yOdvpPvZj",
        "colab_type": "code",
        "colab": {}
      },
      "source": [
        "columns=['date','Patients','Total Confirmed']\n",
        "confirmed = pd.DataFrame(columns=columns)\n",
        "confirmed['date']=prediction_dates"
      ],
      "execution_count": 0,
      "outputs": []
    },
    {
      "cell_type": "code",
      "metadata": {
        "trusted": true,
        "id": "kxNVXlFHPvZm",
        "colab_type": "code",
        "colab": {}
      },
      "source": [
        "confirmed.index=confirmed['date']\n",
        "confirmed.drop(['date'],axis=1,inplace=True)"
      ],
      "execution_count": 0,
      "outputs": []
    },
    {
      "cell_type": "code",
      "metadata": {
        "trusted": true,
        "id": "7FKVlEThPvZo",
        "colab_type": "code",
        "colab": {}
      },
      "source": [
        "confirmed['Patients']=df['Daily Confirmed']\n",
        "confirmed['Total Confirmed']=df['Total Confirmed']"
      ],
      "execution_count": 0,
      "outputs": []
    },
    {
      "cell_type": "code",
      "metadata": {
        "trusted": true,
        "id": "qJoxl7zSPvZp",
        "colab_type": "code",
        "colab": {}
      },
      "source": [
        "previous_day_cases=df.loc['2020-05-06','Daily Confirmed']\n",
        "predicted_cases = []\n",
        "\n",
        "for i in range(15):\n",
        "    predicted_value = previous_day_cases *  growth_factor\n",
        "    predicted_cases.append(predicted_value)\n",
        "    previous_day_cases = predicted_value"
      ],
      "execution_count": 0,
      "outputs": []
    },
    {
      "cell_type": "code",
      "metadata": {
        "trusted": true,
        "id": "4de9OkAIPvZq",
        "colab_type": "code",
        "colab": {}
      },
      "source": [
        "confirmed=confirmed.reset_index()"
      ],
      "execution_count": 0,
      "outputs": []
    },
    {
      "cell_type": "code",
      "metadata": {
        "trusted": true,
        "id": "EKCZ6W3VPvZu",
        "colab_type": "code",
        "colab": {}
      },
      "source": [
        "confirmed.loc[98:,'Patients']=predicted_cases"
      ],
      "execution_count": 0,
      "outputs": []
    },
    {
      "cell_type": "code",
      "metadata": {
        "trusted": true,
        "id": "OiUtJLUAPvZw",
        "colab_type": "code",
        "colab": {}
      },
      "source": [
        "confirmed.info()"
      ],
      "execution_count": 0,
      "outputs": []
    },
    {
      "cell_type": "code",
      "metadata": {
        "trusted": true,
        "id": "5k5_xPzfPvZ0",
        "colab_type": "code",
        "colab": {}
      },
      "source": [
        "for i in range(15):\n",
        "    confirmed.loc[98+i,'Total Confirmed']=confirmed.loc[98+i-1,'Total Confirmed']+confirmed.loc[98+i,'Patients']"
      ],
      "execution_count": 0,
      "outputs": []
    },
    {
      "cell_type": "code",
      "metadata": {
        "trusted": true,
        "id": "Js3lDwFDPvZ2",
        "colab_type": "code",
        "colab": {}
      },
      "source": [
        "confirmed.index=confirmed['date']\n",
        "confirmed.drop(['date'],axis=1,inplace=True)"
      ],
      "execution_count": 0,
      "outputs": []
    },
    {
      "cell_type": "code",
      "metadata": {
        "trusted": true,
        "id": "0mlrE98dPvZ3",
        "colab_type": "code",
        "colab": {}
      },
      "source": [
        "title='Covid-19 India Total Confirmed Cases'\n",
        "ylabel='Persons'\n",
        "\n",
        "ax = confirmed['Total Confirmed'].iloc[-5:].plot(legend=True,figsize=(20,6),title=title,linestyle='-',color='c')\n",
        "ax.autoscale(axis='x');\n",
        "ax.set(ylabel=ylabel);"
      ],
      "execution_count": 0,
      "outputs": []
    },
    {
      "cell_type": "code",
      "metadata": {
        "trusted": true,
        "id": "jnLMOiHGPvZ4",
        "colab_type": "code",
        "colab": {}
      },
      "source": [
        "confirmed=confirmed.round()\n",
        "confirmed.tail()"
      ],
      "execution_count": 0,
      "outputs": []
    },
    {
      "cell_type": "markdown",
      "metadata": {
        "id": "Kovp6DSsPvZ7",
        "colab_type": "text"
      },
      "source": [
        "We could see that the graph is increasing exponentialy if the average growth factor doesn't decrease. It is important that the growth factor is reduced to flatten the curve."
      ]
    },
    {
      "cell_type": "markdown",
      "metadata": {
        "id": "Q8PeFvVrPvZ-",
        "colab_type": "text"
      },
      "source": [
        "## Let's have a look at the average recovery rate."
      ]
    },
    {
      "cell_type": "code",
      "metadata": {
        "trusted": true,
        "id": "mWiJ5EEVPvZ-",
        "colab_type": "code",
        "colab": {}
      },
      "source": [
        "df.head()"
      ],
      "execution_count": 0,
      "outputs": []
    },
    {
      "cell_type": "code",
      "metadata": {
        "trusted": true,
        "id": "APAqZiI9PvZ_",
        "colab_type": "code",
        "colab": {}
      },
      "source": [
        "recovery_diff = []\n",
        "\n",
        "df1=df['2020-03-23':]\n",
        "df1=df1.reset_index()\n",
        "\n",
        "for i in range(1,len(df1)):\n",
        "    recovery_diff.append(df1.loc[i,'Daily Recovered'] / df1.loc[i-1,'Daily Recovered'])\n",
        "\n",
        "recovery_factor = sum(recovery_diff)/len(recovery_diff)\n",
        "print('Average recovery factor',recovery_factor)"
      ],
      "execution_count": 0,
      "outputs": []
    },
    {
      "cell_type": "code",
      "metadata": {
        "trusted": true,
        "id": "nwh-tFw4PvaB",
        "colab_type": "code",
        "colab": {}
      },
      "source": [
        "confirmed['Daily Recovered']=df['Daily Recovered']"
      ],
      "execution_count": 0,
      "outputs": []
    },
    {
      "cell_type": "code",
      "metadata": {
        "trusted": true,
        "id": "UjD73imsPvaC",
        "colab_type": "code",
        "colab": {}
      },
      "source": [
        "confirmed['Total Recovered']=df['Total Recovered']\n",
        "confirmed['Daily Deceased']=df['Daily Deceased']\n",
        "confirmed['Total Deceased']=df['Total Deceased']"
      ],
      "execution_count": 0,
      "outputs": []
    },
    {
      "cell_type": "code",
      "metadata": {
        "trusted": true,
        "id": "-pSwvnMKPvaD",
        "colab_type": "code",
        "colab": {}
      },
      "source": [
        "confirmed.info()"
      ],
      "execution_count": 0,
      "outputs": []
    },
    {
      "cell_type": "code",
      "metadata": {
        "trusted": true,
        "id": "k9uCX0LKPvaE",
        "colab_type": "code",
        "colab": {}
      },
      "source": [
        "previous_day_recovery=df.loc['2020-05-06','Daily Recovered']\n",
        "predicted_recovery = []\n",
        "\n",
        "for i in range(15):\n",
        "    predicted_value = previous_day_recovery *  recovery_factor\n",
        "    predicted_recovery.append(predicted_value)\n",
        "    previous_day_cases = predicted_value\n",
        "    \n",
        "confirmed=confirmed.reset_index()\n",
        "confirmed.loc[98:,'Daily Recovered']=predicted_recovery"
      ],
      "execution_count": 0,
      "outputs": []
    },
    {
      "cell_type": "code",
      "metadata": {
        "trusted": true,
        "id": "9rigajebPvaF",
        "colab_type": "code",
        "colab": {}
      },
      "source": [
        "for i in range(15):\n",
        "    confirmed.loc[98+i,'Total Recovered']=confirmed.loc[98+i-1,'Total Recovered']+confirmed.loc[98+i,'Daily Recovered']"
      ],
      "execution_count": 0,
      "outputs": []
    },
    {
      "cell_type": "code",
      "metadata": {
        "trusted": true,
        "id": "184T35ViPvaG",
        "colab_type": "code",
        "colab": {}
      },
      "source": [
        "confirmed.tail()"
      ],
      "execution_count": 0,
      "outputs": []
    },
    {
      "cell_type": "markdown",
      "metadata": {
        "id": "GgnLHl7SPvaH",
        "colab_type": "text"
      },
      "source": [
        "# ETS Decomposition for recovered cases"
      ]
    },
    {
      "cell_type": "code",
      "metadata": {
        "trusted": true,
        "id": "slO9EUT3PvaH",
        "colab_type": "code",
        "colab": {}
      },
      "source": [
        "results = seasonal_decompose(df['Daily Recovered'])\n",
        "results.plot();"
      ],
      "execution_count": 0,
      "outputs": []
    },
    {
      "cell_type": "code",
      "metadata": {
        "trusted": true,
        "id": "Qyw8upHjPvaH",
        "colab_type": "code",
        "colab": {}
      },
      "source": [
        "results.seasonal.plot(figsize=(20,10));"
      ],
      "execution_count": 0,
      "outputs": []
    },
    {
      "cell_type": "code",
      "metadata": {
        "trusted": true,
        "id": "EI_Hgo4qPvaI",
        "colab_type": "code",
        "colab": {}
      },
      "source": [
        "# Trend of Daily recovered cases\n",
        "results.trend.plot(figsize=(20,10));"
      ],
      "execution_count": 0,
      "outputs": []
    },
    {
      "cell_type": "code",
      "metadata": {
        "trusted": true,
        "id": "QT75LzbiPvaJ",
        "colab_type": "code",
        "colab": {}
      },
      "source": [
        "# As the recovery of cases started from 23/03/2020\n",
        "df1=df['2020-03-23':]\n",
        "len(df1)"
      ],
      "execution_count": 0,
      "outputs": []
    },
    {
      "cell_type": "code",
      "metadata": {
        "trusted": true,
        "id": "bvCiGZBqPvaK",
        "colab_type": "code",
        "colab": {}
      },
      "source": [
        "train=df1.iloc[:40]\n",
        "test=df1.iloc[40:]"
      ],
      "execution_count": 0,
      "outputs": []
    },
    {
      "cell_type": "code",
      "metadata": {
        "trusted": true,
        "id": "qEmOavsgPvaK",
        "colab_type": "code",
        "colab": {}
      },
      "source": [
        "# Simple Exponential Smoothing\n",
        "\n",
        "from statsmodels.tsa.holtwinters import SimpleExpSmoothing\n",
        "\n",
        "span = 5\n",
        "alpha = 2/(span+1)\n",
        "\n",
        "df1['EWMA5'] = df1['Daily Recovered'].ewm(alpha=alpha,adjust=False).mean()\n",
        "df1['SES5']=SimpleExpSmoothing(df1['Daily Recovered']).fit(smoothing_level=alpha,optimized=False).fittedvalues.shift(-1)\n",
        "df1.head()"
      ],
      "execution_count": 0,
      "outputs": []
    },
    {
      "cell_type": "code",
      "metadata": {
        "trusted": true,
        "id": "7uuNZkdWPvaM",
        "colab_type": "code",
        "colab": {}
      },
      "source": [
        "df1[['Daily Recovered','EWMA5','SES5']].iloc[-14:].plot(figsize=(12,6)).autoscale(axis='x',tight=True);"
      ],
      "execution_count": 0,
      "outputs": []
    },
    {
      "cell_type": "markdown",
      "metadata": {
        "id": "dviluARrPvaO",
        "colab_type": "text"
      },
      "source": [
        "Double Exponential Smoothing"
      ]
    },
    {
      "cell_type": "code",
      "metadata": {
        "trusted": true,
        "id": "M0CQPb0cPvaP",
        "colab_type": "code",
        "colab": {}
      },
      "source": [
        "# Double Exponential Smoothing\n",
        "\n",
        "df1['DESadd5_recovery'] = ExponentialSmoothing(df1['Daily Recovered'], trend='add').fit().fittedvalues.shift(-1)\n",
        "df1.head()"
      ],
      "execution_count": 0,
      "outputs": []
    },
    {
      "cell_type": "code",
      "metadata": {
        "trusted": true,
        "id": "1WYApQvvPvaS",
        "colab_type": "code",
        "colab": {}
      },
      "source": [
        "df1[['Daily Recovered','EWMA5','DESadd5_recovery']].iloc[-14:].plot(figsize=(12,6)).autoscale(axis='x',tight=True);"
      ],
      "execution_count": 0,
      "outputs": []
    },
    {
      "cell_type": "markdown",
      "metadata": {
        "id": "wuqju6KrPvaU",
        "colab_type": "text"
      },
      "source": [
        "Here we can see that Double Exponential Smoothing is a much better representation of the time series data than Simple Exponential Smoothing.\n",
        "Let's see if using a multiplicative trend adjustment helps."
      ]
    },
    {
      "cell_type": "code",
      "metadata": {
        "trusted": true,
        "id": "-8Kl-0-RPvaU",
        "colab_type": "code",
        "colab": {}
      },
      "source": [
        "df1['DESmul5_recovery'] = ExponentialSmoothing(df1['Daily Recovered'], trend='mul').fit().fittedvalues.shift(-1)\n",
        "df1[['Daily Recovered','DESadd5_recovery','DESmul5_recovery']].iloc[-14:].plot(figsize=(12,6)).autoscale(axis='x',tight=True);"
      ],
      "execution_count": 0,
      "outputs": []
    },
    {
      "cell_type": "markdown",
      "metadata": {
        "id": "pdg3RGhWPvaV",
        "colab_type": "text"
      },
      "source": [
        "## Triple Exponential Smoothing\n",
        "\n",
        "Triple Exponential Smoothing, the method most closely associated with Holt-Winters, adds support for both trends and seasonality in the data."
      ]
    },
    {
      "cell_type": "code",
      "metadata": {
        "trusted": true,
        "id": "8y6_Z3PnPvaV",
        "colab_type": "code",
        "colab": {}
      },
      "source": [
        "df1['TESadd5'] = ExponentialSmoothing(df1['Daily Recovered'],trend='add',seasonal='add',seasonal_periods=5).fit().fittedvalues\n",
        "df1.head()"
      ],
      "execution_count": 0,
      "outputs": []
    },
    {
      "cell_type": "code",
      "metadata": {
        "trusted": true,
        "id": "MeMgnVkiPvaW",
        "colab_type": "code",
        "colab": {}
      },
      "source": [
        "df1[['Daily Recovered','TESadd5']].iloc[-14:].plot(figsize=(12,6)).autoscale(axis='x',tight=True);"
      ],
      "execution_count": 0,
      "outputs": []
    },
    {
      "cell_type": "code",
      "metadata": {
        "trusted": true,
        "id": "II0694HbPvaX",
        "colab_type": "code",
        "colab": {}
      },
      "source": [
        "df1['TESmul5'] = ExponentialSmoothing(df1['Daily Recovered'],trend='mul',seasonal='mul',seasonal_periods=5).fit().fittedvalues\n",
        "df1[['Daily Recovered','TESadd5','TESmul5']].iloc[-14:].plot(figsize=(12,6)).autoscale(axis='x',tight=True);"
      ],
      "execution_count": 0,
      "outputs": []
    },
    {
      "cell_type": "markdown",
      "metadata": {
        "id": "KxjbUK38PvaY",
        "colab_type": "text"
      },
      "source": [
        "Testing for stationarity of recovery data."
      ]
    },
    {
      "cell_type": "code",
      "metadata": {
        "trusted": true,
        "id": "IA8TswuMPvaY",
        "colab_type": "code",
        "colab": {}
      },
      "source": [
        "adf_test(df1['Daily Recovered'])"
      ],
      "execution_count": 0,
      "outputs": []
    },
    {
      "cell_type": "code",
      "metadata": {
        "trusted": true,
        "id": "thnvQcwRPvaZ",
        "colab_type": "code",
        "colab": {}
      },
      "source": [
        "df1['d1_recovery'] = diff(df1['Daily Recovered'],k_diff=1)\n",
        "\n",
        "adf_test(df1['d1_recovery'],'')"
      ],
      "execution_count": 0,
      "outputs": []
    },
    {
      "cell_type": "code",
      "metadata": {
        "trusted": true,
        "id": "X4PaCk7_Pvaa",
        "colab_type": "code",
        "colab": {}
      },
      "source": [
        "# Auto Arima Model\n",
        "\n",
        "stepwise_model = auto_arima(train['Daily Recovered'], start_p=0, start_q=0, max_p=5, max_q=5,m=7,seasonality=True,\n",
        "d=1,D=1,trace=True,error_action='ignore',suppress_warnings=True,stepwise=True)\n",
        "\n",
        "print(stepwise_model.aic())"
      ],
      "execution_count": 0,
      "outputs": []
    },
    {
      "cell_type": "code",
      "metadata": {
        "trusted": true,
        "id": "NvplEDHzPvab",
        "colab_type": "code",
        "colab": {}
      },
      "source": [
        "model = SARIMAX(train['Daily Recovered'],order=(2,1,1),seasonal_order=(0,1,2,7),enforce_invertibility=True)\n",
        "results = model.fit()\n",
        "results.summary()"
      ],
      "execution_count": 0,
      "outputs": []
    },
    {
      "cell_type": "code",
      "metadata": {
        "trusted": true,
        "id": "0VsLaq1TPvac",
        "colab_type": "code",
        "colab": {}
      },
      "source": [
        "start=len(train)\n",
        "end=len(train)+len(test)-1\n",
        "predictions = results.predict(start=start, end=end, dynamic=False,typ='levels').rename('SARIMA(2,1,1)(0,1,2,7) Predictions')"
      ],
      "execution_count": 0,
      "outputs": []
    },
    {
      "cell_type": "code",
      "metadata": {
        "trusted": true,
        "id": "W69hWOt3Pvag",
        "colab_type": "code",
        "colab": {}
      },
      "source": [
        "title='Covid-19 India Daily Recovered Cases'\n",
        "ylabel='Persons'\n",
        "\n",
        "ax = test['Daily Recovered'].plot(legend=True,figsize=(12,6),title=title)\n",
        "predictions.plot(legend=True);\n",
        "ax.autoscale(axis='x',tight=True);\n",
        "ax.set(ylabel=ylabel);"
      ],
      "execution_count": 0,
      "outputs": []
    },
    {
      "cell_type": "code",
      "metadata": {
        "trusted": true,
        "id": "PSIpbP4rPvaj",
        "colab_type": "code",
        "colab": {}
      },
      "source": [
        "predictions"
      ],
      "execution_count": 0,
      "outputs": []
    },
    {
      "cell_type": "code",
      "metadata": {
        "trusted": true,
        "id": "P0-3WO7sPvak",
        "colab_type": "code",
        "colab": {}
      },
      "source": [
        "error = rmse(test['Daily Recovered'], predictions)\n",
        "print(f'SARIMAX(2,1,1)(0,1,2,7) RMSE Error: {error:11.10}')"
      ],
      "execution_count": 0,
      "outputs": []
    },
    {
      "cell_type": "markdown",
      "metadata": {
        "id": "UhEjsQOIPvak",
        "colab_type": "text"
      },
      "source": [
        "Predicting for one week ahead."
      ]
    },
    {
      "cell_type": "code",
      "metadata": {
        "trusted": true,
        "id": "dy2S7RtyPvak",
        "colab_type": "code",
        "colab": {}
      },
      "source": [
        "model = SARIMAX(df1['Daily Recovered'],order=(2,1,1),seasonal_order=(0,1,2,7),enforce_invertibility=True)\n",
        "results = model.fit()\n",
        "results.summary()"
      ],
      "execution_count": 0,
      "outputs": []
    },
    {
      "cell_type": "code",
      "metadata": {
        "trusted": true,
        "id": "D8wSpOOFPvam",
        "colab_type": "code",
        "colab": {}
      },
      "source": [
        "start=len(df1)\n",
        "end=len(df1)+5\n",
        "predictions = results.predict(start=start, end=end, dynamic=False,typ='levels').rename('SARIMA(2,1,1)(0,1,2,7) Predictions')"
      ],
      "execution_count": 0,
      "outputs": []
    },
    {
      "cell_type": "code",
      "metadata": {
        "trusted": true,
        "id": "w-6guWDVPvam",
        "colab_type": "code",
        "colab": {}
      },
      "source": [
        "title='Covid-19 India Daily Recovered Cases'\n",
        "ylabel='Persons'\n",
        "\n",
        "ax = df1['Daily Recovered'].plot(legend=True,figsize=(12,6),title=title)\n",
        "predictions.plot(legend=True);\n",
        "ax.autoscale(axis='x',tight=True);\n",
        "ax.set(ylabel=ylabel);"
      ],
      "execution_count": 0,
      "outputs": []
    },
    {
      "cell_type": "code",
      "metadata": {
        "trusted": true,
        "id": "QAGCHQ83Pvan",
        "colab_type": "code",
        "colab": {}
      },
      "source": [
        "predictions"
      ],
      "execution_count": 0,
      "outputs": []
    },
    {
      "cell_type": "code",
      "metadata": {
        "trusted": true,
        "id": "B97R2Y_yPvao",
        "colab_type": "code",
        "colab": {}
      },
      "source": [
        "date1 = '2020-01-30'\n",
        "date2 = '2020-05-12'\n",
        "mydates = pd.date_range(date1, date2).tolist()\n",
        "len(mydates)"
      ],
      "execution_count": 0,
      "outputs": []
    },
    {
      "cell_type": "code",
      "metadata": {
        "trusted": true,
        "id": "5CEEKtXwPvao",
        "colab_type": "code",
        "colab": {}
      },
      "source": [
        "df.info()"
      ],
      "execution_count": 0,
      "outputs": []
    },
    {
      "cell_type": "code",
      "metadata": {
        "trusted": true,
        "id": "eXjJvnNuPvaq",
        "colab_type": "code",
        "colab": {}
      },
      "source": [
        "a=pd.DataFrame()\n",
        "a['Date']=mydates\n",
        "a.info()"
      ],
      "execution_count": 0,
      "outputs": []
    },
    {
      "cell_type": "code",
      "metadata": {
        "trusted": true,
        "id": "M5LEmR0iPvar",
        "colab_type": "code",
        "colab": {}
      },
      "source": [
        "a.index=a['Date']\n",
        "a.drop(['Date'],axis=1,inplace=True)\n",
        "a.info()"
      ],
      "execution_count": 0,
      "outputs": []
    },
    {
      "cell_type": "code",
      "metadata": {
        "trusted": true,
        "id": "jR15W8oEPvas",
        "colab_type": "code",
        "colab": {}
      },
      "source": [
        "a['Recovered']=df['Daily Recovered']\n",
        "a['Total Recovered']=df['Total Recovered']\n",
        "a.info()"
      ],
      "execution_count": 0,
      "outputs": []
    },
    {
      "cell_type": "code",
      "metadata": {
        "trusted": true,
        "id": "ElKjeXjoPvas",
        "colab_type": "code",
        "colab": {}
      },
      "source": [
        "a=a.round()"
      ],
      "execution_count": 0,
      "outputs": []
    },
    {
      "cell_type": "code",
      "metadata": {
        "trusted": true,
        "id": "7H2vbGPlPvat",
        "colab_type": "code",
        "colab": {}
      },
      "source": [
        "a.loc[98:,'Recovered']=predictions"
      ],
      "execution_count": 0,
      "outputs": []
    },
    {
      "cell_type": "code",
      "metadata": {
        "trusted": true,
        "id": "tPqy-1xMPvau",
        "colab_type": "code",
        "colab": {}
      },
      "source": [
        "a.info()"
      ],
      "execution_count": 0,
      "outputs": []
    },
    {
      "cell_type": "code",
      "metadata": {
        "trusted": true,
        "id": "8cO01MO3Pvav",
        "colab_type": "code",
        "colab": {}
      },
      "source": [
        "a=a.reset_index()\n",
        "for i in range(6):\n",
        "    a.loc[98+i,'Total Recovered']=a.loc[98+i-1,'Total Recovered']+a.loc[98+i,'Recovered']\n",
        "a.info()    "
      ],
      "execution_count": 0,
      "outputs": []
    },
    {
      "cell_type": "code",
      "metadata": {
        "trusted": true,
        "id": "EZCgTeetPvav",
        "colab_type": "code",
        "colab": {}
      },
      "source": [
        "a.tail()"
      ],
      "execution_count": 0,
      "outputs": []
    },
    {
      "cell_type": "markdown",
      "metadata": {
        "id": "Z3G86j4APvaw",
        "colab_type": "text"
      },
      "source": [
        "# From ARIMA model total recovered cases would be 23768 approximately by 12/05/2020."
      ]
    },
    {
      "cell_type": "markdown",
      "metadata": {
        "id": "O6FZYSCePvaw",
        "colab_type": "text"
      },
      "source": [
        "## Let's have a look at the Death rate."
      ]
    },
    {
      "cell_type": "code",
      "metadata": {
        "trusted": true,
        "id": "m4SbKN2rPvaw",
        "colab_type": "code",
        "colab": {}
      },
      "source": [
        "df.tail()"
      ],
      "execution_count": 0,
      "outputs": []
    },
    {
      "cell_type": "code",
      "metadata": {
        "trusted": true,
        "id": "nsNwtjRkPvax",
        "colab_type": "code",
        "colab": {}
      },
      "source": [
        "death_diff = []\n",
        "\n",
        "df1=df['2020-03-22':]\n",
        "df1=df1.reset_index()\n",
        "\n",
        "for i in range(1,len(df1)):\n",
        "    death_diff.append(df1.loc[i,'Daily Deceased'] / df1.loc[i-1,'Daily Deceased'])\n",
        "\n",
        "death_factor = sum(death_diff)/len(death_diff)\n",
        "print('Average death factor',death_factor)"
      ],
      "execution_count": 0,
      "outputs": []
    },
    {
      "cell_type": "code",
      "metadata": {
        "trusted": true,
        "id": "Iuk7LtM_Pva0",
        "colab_type": "code",
        "colab": {}
      },
      "source": [
        "previous_day_death=df.loc['2020-05-06','Daily Deceased']\n",
        "predicted_death = []\n",
        "\n",
        "for i in range(15):\n",
        "    predicted_value = previous_day_death *  death_factor\n",
        "    predicted_death.append(predicted_value)\n",
        "    previous_day_death = predicted_value\n",
        "    \n",
        "\n",
        "confirmed.loc[98:,'Daily Deceased']=predicted_death"
      ],
      "execution_count": 0,
      "outputs": []
    },
    {
      "cell_type": "code",
      "metadata": {
        "trusted": true,
        "id": "N-kxIzIoPva1",
        "colab_type": "code",
        "colab": {}
      },
      "source": [
        "confirmed.tail()"
      ],
      "execution_count": 0,
      "outputs": []
    },
    {
      "cell_type": "code",
      "metadata": {
        "trusted": true,
        "id": "vVEammJrPva2",
        "colab_type": "code",
        "colab": {}
      },
      "source": [
        "for i in range(15):\n",
        "    confirmed.loc[98+i,'Total Deceased']=confirmed.loc[98+i-1,'Total Deceased']+confirmed.loc[98+i,'Daily Deceased']"
      ],
      "execution_count": 0,
      "outputs": []
    },
    {
      "cell_type": "code",
      "metadata": {
        "trusted": true,
        "id": "geFzRUk1Pva2",
        "colab_type": "code",
        "colab": {}
      },
      "source": [
        "confirmed.index=confirmed['date']\n",
        "confirmed.drop(['date'],axis=1,inplace=True)"
      ],
      "execution_count": 0,
      "outputs": []
    },
    {
      "cell_type": "code",
      "metadata": {
        "trusted": true,
        "id": "qUn141nCPva3",
        "colab_type": "code",
        "colab": {}
      },
      "source": [
        "title='Covid-19 India'\n",
        "ylabel='Persons'\n",
        "\n",
        "ax = confirmed[['Total Recovered','Total Deceased']].iloc[-40:].plot(legend=True,figsize=(20,6),title=title,linestyle='-')\n",
        "ax.autoscale(axis='x');\n",
        "ax.set(ylabel=ylabel);"
      ],
      "execution_count": 0,
      "outputs": []
    },
    {
      "cell_type": "code",
      "metadata": {
        "trusted": true,
        "id": "xUEGe8lvPva3",
        "colab_type": "code",
        "colab": {}
      },
      "source": [
        "confirmed=confirmed.round()\n",
        "confirmed.tail()"
      ],
      "execution_count": 0,
      "outputs": []
    },
    {
      "cell_type": "markdown",
      "metadata": {
        "id": "EcMrxuLSPva4",
        "colab_type": "text"
      },
      "source": [
        "## If similar rate of death and recovery continues then by 21/05/2020\n",
        "\n",
        "### Total death toll in India will reach 15000 mark\n",
        "\n",
        "### Recovered patients would be 40000."
      ]
    },
    {
      "cell_type": "markdown",
      "metadata": {
        "id": "HKrgd8vNPva4",
        "colab_type": "text"
      },
      "source": [
        "# ETS Decomposition for death rate."
      ]
    },
    {
      "cell_type": "code",
      "metadata": {
        "trusted": true,
        "id": "0-XDdc5nPva4",
        "colab_type": "code",
        "colab": {}
      },
      "source": [
        "df.info()"
      ],
      "execution_count": 0,
      "outputs": []
    },
    {
      "cell_type": "code",
      "metadata": {
        "trusted": true,
        "id": "d017mitMPva5",
        "colab_type": "code",
        "colab": {}
      },
      "source": [
        "results = seasonal_decompose(df['Daily Deceased'])\n",
        "results.plot();"
      ],
      "execution_count": 0,
      "outputs": []
    },
    {
      "cell_type": "code",
      "metadata": {
        "trusted": true,
        "id": "ckEqwWHVPva6",
        "colab_type": "code",
        "colab": {}
      },
      "source": [
        "results.seasonal.plot(figsize=(20,10));"
      ],
      "execution_count": 0,
      "outputs": []
    },
    {
      "cell_type": "code",
      "metadata": {
        "trusted": true,
        "id": "UUsKRo55Pva6",
        "colab_type": "code",
        "colab": {}
      },
      "source": [
        "results.trend.plot(figsize=(20,10));"
      ],
      "execution_count": 0,
      "outputs": []
    },
    {
      "cell_type": "code",
      "metadata": {
        "trusted": true,
        "id": "cRQRFGWqPva7",
        "colab_type": "code",
        "colab": {}
      },
      "source": [
        "# As the deceased cases started from 22/03/2020\n",
        "df1=df['2020-03-22':]\n",
        "len(df1)"
      ],
      "execution_count": 0,
      "outputs": []
    },
    {
      "cell_type": "code",
      "metadata": {
        "trusted": true,
        "id": "zVxYNfI5Pva8",
        "colab_type": "code",
        "colab": {}
      },
      "source": [
        "train=df1.iloc[:41]\n",
        "test=df1.iloc[41:]"
      ],
      "execution_count": 0,
      "outputs": []
    },
    {
      "cell_type": "markdown",
      "metadata": {
        "id": "b73gePflPva8",
        "colab_type": "text"
      },
      "source": [
        "Simple Exponential Smoothing"
      ]
    },
    {
      "cell_type": "code",
      "metadata": {
        "trusted": true,
        "id": "ExqqnBslPva8",
        "colab_type": "code",
        "colab": {}
      },
      "source": [
        "span = 7\n",
        "alpha = 2/(span+1)\n",
        "\n",
        "df1['EWMA7_deceased'] = df1['Daily Deceased'].ewm(alpha=alpha,adjust=False).mean()\n",
        "df1['SES7_deceased']=SimpleExpSmoothing(df1['Daily Deceased']).fit(smoothing_level=alpha,optimized=False).fittedvalues.shift(-1)\n",
        "df1.head()"
      ],
      "execution_count": 0,
      "outputs": []
    },
    {
      "cell_type": "code",
      "metadata": {
        "trusted": true,
        "id": "OQ-PcO-9Pva9",
        "colab_type": "code",
        "colab": {}
      },
      "source": [
        "df1[['Daily Deceased','EWMA7_deceased','SES7_deceased']].iloc[-14:].plot(figsize=(12,6)).autoscale(axis='x',tight=True);"
      ],
      "execution_count": 0,
      "outputs": []
    },
    {
      "cell_type": "markdown",
      "metadata": {
        "id": "Us70Df6DPva-",
        "colab_type": "text"
      },
      "source": [
        "Double Exponential Smoothing"
      ]
    },
    {
      "cell_type": "code",
      "metadata": {
        "trusted": true,
        "id": "p8S43rgUPva-",
        "colab_type": "code",
        "colab": {}
      },
      "source": [
        "# Double Exponential Smoothing\n",
        "\n",
        "df1['DESadd7_deceased'] = ExponentialSmoothing(df1['Daily Deceased'], trend='add').fit().fittedvalues.shift(-1)\n",
        "df1.head()"
      ],
      "execution_count": 0,
      "outputs": []
    },
    {
      "cell_type": "code",
      "metadata": {
        "trusted": true,
        "id": "6YxkY1PjPva_",
        "colab_type": "code",
        "colab": {}
      },
      "source": [
        "df1[['Daily Deceased','EWMA7_deceased','DESadd7_deceased']].iloc[-14:].plot(figsize=(12,6)).autoscale(axis='x',tight=True);"
      ],
      "execution_count": 0,
      "outputs": []
    },
    {
      "cell_type": "markdown",
      "metadata": {
        "id": "BUF8Pl5VPvbA",
        "colab_type": "text"
      },
      "source": [
        "Here we can see that Double Exponential Smoothing is a much better representation of the time series data than Simple Exponential Smoothing. Let's see if using a multiplicative trend adjustment helps."
      ]
    },
    {
      "cell_type": "code",
      "metadata": {
        "trusted": true,
        "id": "fN1VaoxEPvbA",
        "colab_type": "code",
        "colab": {}
      },
      "source": [
        "df1['DESmul7_deceased'] = ExponentialSmoothing(df1['Daily Deceased'], trend='mul').fit().fittedvalues.shift(-1)\n",
        "df1[['Daily Deceased','DESadd7_deceased','DESmul7_deceased']].iloc[-14:].plot(figsize=(12,6)).autoscale(axis='x',tight=True);"
      ],
      "execution_count": 0,
      "outputs": []
    },
    {
      "cell_type": "markdown",
      "metadata": {
        "id": "oVklXp-_PvbB",
        "colab_type": "text"
      },
      "source": [
        "## Triple Exponential Smoothing\n",
        "\n",
        "Triple Exponential Smoothing, the method most closely associated with Holt-Winters, adds support for both trends and seasonality in the data."
      ]
    },
    {
      "cell_type": "code",
      "metadata": {
        "trusted": true,
        "id": "bIjQ5wDuPvbB",
        "colab_type": "code",
        "colab": {}
      },
      "source": [
        "df1['TESadd7_deceased'] = ExponentialSmoothing(df1['Daily Deceased'],trend='add',seasonal='add',seasonal_periods=7).fit().fittedvalues\n",
        "df1.head()"
      ],
      "execution_count": 0,
      "outputs": []
    },
    {
      "cell_type": "code",
      "metadata": {
        "trusted": true,
        "id": "U1sBbk8uPvbD",
        "colab_type": "code",
        "colab": {}
      },
      "source": [
        "df1[['Daily Deceased','TESadd7_deceased']].iloc[-14:].plot(figsize=(12,6)).autoscale(axis='x',tight=True);"
      ],
      "execution_count": 0,
      "outputs": []
    },
    {
      "cell_type": "code",
      "metadata": {
        "trusted": true,
        "id": "a-_knnREPvbD",
        "colab_type": "code",
        "colab": {}
      },
      "source": [
        "df1['TESmul7_deceased'] = ExponentialSmoothing(df1['Daily Deceased'],trend='mul',seasonal='mul',seasonal_periods=7).fit().fittedvalues\n",
        "df1[['Daily Deceased','TESadd7_deceased','TESmul7_deceased']].iloc[-14:].plot(figsize=(12,6)).autoscale(axis='x',tight=True);"
      ],
      "execution_count": 0,
      "outputs": []
    },
    {
      "cell_type": "markdown",
      "metadata": {
        "id": "Q0XkTKP5PvbE",
        "colab_type": "text"
      },
      "source": [
        "Testing for stationarity of deceased data."
      ]
    },
    {
      "cell_type": "code",
      "metadata": {
        "trusted": true,
        "id": "Vqph3U1HPvbE",
        "colab_type": "code",
        "colab": {}
      },
      "source": [
        "adf_test(df1['Daily Deceased'])"
      ],
      "execution_count": 0,
      "outputs": []
    },
    {
      "cell_type": "code",
      "metadata": {
        "trusted": true,
        "id": "v4xHacJ_PvbF",
        "colab_type": "code",
        "colab": {}
      },
      "source": [
        "df1['d1_deceased'] = diff(df1['Daily Deceased'],k_diff=1)\n",
        "\n",
        "adf_test(df1['d1_deceased'],'')"
      ],
      "execution_count": 0,
      "outputs": []
    },
    {
      "cell_type": "code",
      "metadata": {
        "trusted": true,
        "id": "Vfpb_BDXPvbF",
        "colab_type": "code",
        "colab": {}
      },
      "source": [
        "# Auto Arima Model\n",
        "\n",
        "stepwise_model = auto_arima(train['Daily Deceased'], start_p=0, start_q=0, max_p=5, max_q=5,m=7,seasonality=True,\n",
        "d=1,D=1,trace=True,error_action='ignore',suppress_warnings=True,stepwise=True)\n",
        "\n",
        "print(stepwise_model.aic())"
      ],
      "execution_count": 0,
      "outputs": []
    },
    {
      "cell_type": "code",
      "metadata": {
        "trusted": true,
        "id": "o0A2izSgPvbG",
        "colab_type": "code",
        "colab": {}
      },
      "source": [
        "model = SARIMAX(train['Daily Deceased'],order=(0,1,2),seasonal_order=(0,1,1,7),enforce_invertibility=True)\n",
        "results = model.fit()\n",
        "results.summary()"
      ],
      "execution_count": 0,
      "outputs": []
    },
    {
      "cell_type": "code",
      "metadata": {
        "trusted": true,
        "id": "L7gMtePpPvbH",
        "colab_type": "code",
        "colab": {}
      },
      "source": [
        "start=len(train)\n",
        "end=len(train)+len(test)-1\n",
        "predictions = results.predict(start=start, end=end, dynamic=False,typ='levels').rename('SARIMA(0,1,2)(0,1,1,7) Predictions')"
      ],
      "execution_count": 0,
      "outputs": []
    },
    {
      "cell_type": "code",
      "metadata": {
        "trusted": true,
        "id": "QOPeiht8PvbH",
        "colab_type": "code",
        "colab": {}
      },
      "source": [
        "title='Covid-19 India Daily Deceased Cases'\n",
        "ylabel='Persons'\n",
        "\n",
        "ax = test['Daily Deceased'].plot(legend=True,figsize=(12,6),title=title)\n",
        "predictions.plot(legend=True);\n",
        "ax.autoscale(axis='x',tight=True);\n",
        "ax.set(ylabel=ylabel);"
      ],
      "execution_count": 0,
      "outputs": []
    },
    {
      "cell_type": "code",
      "metadata": {
        "trusted": true,
        "id": "vQ2e7hegPvbI",
        "colab_type": "code",
        "colab": {}
      },
      "source": [
        "error = rmse(test['Daily Deceased'], predictions)\n",
        "print(f'SARIMAX(0,1,2)(0,1,1,7) RMSE Error: {error:11.10}')"
      ],
      "execution_count": 0,
      "outputs": []
    },
    {
      "cell_type": "markdown",
      "metadata": {
        "id": "NA0ss8JSPvbJ",
        "colab_type": "text"
      },
      "source": [
        "Predicting for one week ahead."
      ]
    },
    {
      "cell_type": "code",
      "metadata": {
        "trusted": true,
        "id": "bR7umWi8PvbJ",
        "colab_type": "code",
        "colab": {}
      },
      "source": [
        "model = SARIMAX(df1['Daily Deceased'],order=(0,1,2),seasonal_order=(0,1,1,7),enforce_invertibility=True)\n",
        "results = model.fit()\n",
        "results.summary()"
      ],
      "execution_count": 0,
      "outputs": []
    },
    {
      "cell_type": "code",
      "metadata": {
        "trusted": true,
        "id": "5_JKpKVBPvbL",
        "colab_type": "code",
        "colab": {}
      },
      "source": [
        "start=len(df1)\n",
        "end=len(df1)+5\n",
        "predictions = results.predict(start=start, end=end, dynamic=False,typ='levels').rename('SARIMA(0,1,2)(0,1,1,7) Predictions')"
      ],
      "execution_count": 0,
      "outputs": []
    },
    {
      "cell_type": "code",
      "metadata": {
        "trusted": true,
        "id": "SZtyyqDkPvbM",
        "colab_type": "code",
        "colab": {}
      },
      "source": [
        "predictions"
      ],
      "execution_count": 0,
      "outputs": []
    },
    {
      "cell_type": "code",
      "metadata": {
        "trusted": true,
        "id": "znoBJxwBPvbM",
        "colab_type": "code",
        "colab": {}
      },
      "source": [
        "title='Covid-19 India Daily Recovered Cases'\n",
        "ylabel='Persons'\n",
        "\n",
        "ax = df1['Daily Deceased'].plot(legend=True,figsize=(12,6),title=title)\n",
        "predictions.plot(legend=True);\n",
        "ax.autoscale(axis='x',tight=True);\n",
        "ax.set(ylabel=ylabel);"
      ],
      "execution_count": 0,
      "outputs": []
    },
    {
      "cell_type": "code",
      "metadata": {
        "trusted": true,
        "id": "A2al7nGAPvbN",
        "colab_type": "code",
        "colab": {}
      },
      "source": [
        "date1 = '2020-01-30'\n",
        "date2 = '2020-05-12'\n",
        "mydates = pd.date_range(date1, date2).tolist()\n",
        "len(mydates)"
      ],
      "execution_count": 0,
      "outputs": []
    },
    {
      "cell_type": "code",
      "metadata": {
        "trusted": true,
        "id": "swJ4yiqfPvbN",
        "colab_type": "code",
        "colab": {}
      },
      "source": [
        "df.info()"
      ],
      "execution_count": 0,
      "outputs": []
    },
    {
      "cell_type": "code",
      "metadata": {
        "trusted": true,
        "id": "Q5JdBCQ8PvbO",
        "colab_type": "code",
        "colab": {}
      },
      "source": [
        "a=pd.DataFrame()\n",
        "a['Date']=mydates\n",
        "a.info()"
      ],
      "execution_count": 0,
      "outputs": []
    },
    {
      "cell_type": "code",
      "metadata": {
        "trusted": true,
        "id": "KVRhLIIGPvbP",
        "colab_type": "code",
        "colab": {}
      },
      "source": [
        "a.index=a['Date']\n",
        "a.drop(['Date'],axis=1,inplace=True)\n",
        "\n",
        "a['Deceased']=df['Daily Deceased']\n",
        "a['Total Deceased']=df['Total Deceased']\n",
        "a.info()"
      ],
      "execution_count": 0,
      "outputs": []
    },
    {
      "cell_type": "code",
      "metadata": {
        "trusted": true,
        "id": "xtBNVE1fPvbR",
        "colab_type": "code",
        "colab": {}
      },
      "source": [
        "a=a.round()\n",
        "\n",
        "a.loc[98:,'Deceased']=predictions\n",
        "\n",
        "a.info()"
      ],
      "execution_count": 0,
      "outputs": []
    },
    {
      "cell_type": "code",
      "metadata": {
        "trusted": true,
        "id": "dFXQZGd1PvbS",
        "colab_type": "code",
        "colab": {}
      },
      "source": [
        "a=a.reset_index()\n",
        "for i in range(6):\n",
        "    a.loc[98+i,'Total Deceased']=a.loc[98+i-1,'Total Deceased']+a.loc[98+i,'Deceased']\n",
        "a.info()"
      ],
      "execution_count": 0,
      "outputs": []
    },
    {
      "cell_type": "code",
      "metadata": {
        "trusted": true,
        "id": "CsAmqAuBPvbT",
        "colab_type": "code",
        "colab": {}
      },
      "source": [
        "a.tail()"
      ],
      "execution_count": 0,
      "outputs": []
    },
    {
      "cell_type": "markdown",
      "metadata": {
        "id": "HQ_UDSI9PvbT",
        "colab_type": "text"
      },
      "source": [
        "# From ARIMA model total recovered cases would be 2546 approximately by 12/05/2020."
      ]
    }
  ]
}